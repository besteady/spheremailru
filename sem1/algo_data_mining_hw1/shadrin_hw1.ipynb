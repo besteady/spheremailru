{
 "cells": [
  {
   "cell_type": "markdown",
   "metadata": {},
   "source": [
    "**Общая информация**\n",
    "\n",
    "**Срок сдачи:** 18 октября 2017, 06:00 <br\\>\n",
    "**Штраф за опоздание:** -2 балла после 06:00 18 октября, -4 балла после 06:00 25 октября, -6 баллов после 06:00 1 ноября\n",
    "\n",
    "При отправлении ДЗ указывайте фамилию в названии файла\n",
    "Присылать ДЗ необходимо в виде ссылки на свой github репозиторий в slack @alkhamush\n",
    "\n",
    "Необходимо в slack создать таск в приватный чат:\n",
    "/todo Фамилия Имя ссылка на гитхаб @alkhamush\n",
    "Пример:\n",
    "/todo Ксения Стройкова https://github.com/stroykova/spheremailru/stroykova_hw1.ipynb @alkhamush\n",
    "Дополнительно нужно просто скинуть ссылку в slack в личный чат\n",
    "\n",
    "Используйте данный Ipython Notebook при оформлении домашнего задания."
   ]
  },
  {
   "cell_type": "markdown",
   "metadata": {},
   "source": [
    "###### Задание 1 (2 баллов)\n",
    "Реализовать KNN в классе MyKNeighborsClassifier (обязательное условие: точность не ниже sklearn реализации)\n",
    "Разберитесь самостоятельно, какая мера расстояния используется в KNeighborsClassifier дефолтно и реализуйте свой алгоритм именно с этой мерой. Самостоятельно разберитесь, как считается score из KNeighborsClassifier и реализуйте аналог в своём классе. Score не должен уступать значению KNN из sklearn\n",
    "\n",
    "###### Задание 2 (2 балла)\n",
    "Добиться скорости работы на fit,  predict и predict_proba сравнимой со sklearn для iris и mnist\n",
    "Для этого используем numpy\n",
    "\n",
    "###### Задание 3 (2 балла)\n",
    "Для iris найдите такой параметр n_neighbors, при котором выдаётся наилучший score. Нарисуйте график зависимости score от n_neighbors\n",
    "\n",
    "###### Задание 4 (3 балла)\n",
    "Добавить algorithm='kd_tree' в реализацию KNN (использовать KDTree из sklearn.neighbors). Значение n_neighbors нужно взять из задания 3. Добиться скорости работы на fit,  predict и predict_proba сравнимой со sklearn для iris и mnist\n",
    "Для этого используем numpy. Score не должен уступать значению KNN из sklearn\n",
    "\n",
    "###### Задание 5 (1 балла)\n",
    "Описать для чего нужны следующие библиотеки/классы/функции (список будет ниже)\n",
    "\n",
    "**Штрафные баллы:**\n",
    "\n",
    "1. Невыполнение PEP8 -1 балл\n",
    "2. Отсутствие фамилии в имени скрипта (скрипт должен называться по аналогии со stroykova_hw1.ipynb) -1 балл\n",
    "3. Все строчки должны быть выполнены. Нужно, чтобы output команды можно было увидеть уже в git'е. В противном случае -1 балл\n",
    "4. При оформлении ДЗ нужно пользоваться данным файлом в качестве шаблона. Не нужно удалять и видоизменять структуру кода и текст. В противном случае -1 балл\n"
   ]
  },
  {
   "cell_type": "code",
   "execution_count": 1,
   "metadata": {},
   "outputs": [
    {
     "name": "stderr",
     "output_type": "stream",
     "text": [
      "/home/steady/anaconda3/lib/python3.7/site-packages/sklearn/utils/__init__.py:4: DeprecationWarning: Using or importing the ABCs from 'collections' instead of from 'collections.abc' is deprecated, and in 3.8 it will stop working\n",
      "  from collections import Sequence\n"
     ]
    }
   ],
   "source": [
    "import numpy as np\n",
    "import matplotlib.pyplot as plt\n",
    "\n",
    "import seaborn as sns\n",
    "from sklearn import datasets, metrics\n",
    "from sklearn.metrics import pairwise_distances\n",
    "from sklearn.base import ClassifierMixin\n",
    "from sklearn.datasets import fetch_mldata\n",
    "from sklearn.neighbors.base import NeighborsBase, KNeighborsMixin, SupervisedIntegerMixin \n",
    "from sklearn.model_selection import train_test_split\n",
    "from sklearn.neighbors import KNeighborsClassifier\n",
    "from sklearn.neighbors import KDTree\n",
    "\n",
    "%load_ext pycodestyle_magic"
   ]
  },
  {
   "cell_type": "code",
   "execution_count": 2,
   "metadata": {},
   "outputs": [],
   "source": [
    "# с %%pycodestyle какой-то баг. Всегда выдает W391 blank line at end of file, остальное впорядке\n",
    "\n",
    "\n",
    "class MyKNeighborsClassifier(NeighborsBase, KNeighborsMixin,\n",
    "                             SupervisedIntegerMixin, ClassifierMixin):\n",
    "    def __init__(self, n_neighbors, algorithm='brute'):\n",
    "        self._n_neighbors = n_neighbors\n",
    "        self._algorithm = algorithm\n",
    "\n",
    "    def fit(self, X, y):\n",
    "        self._X_train = np.array(X)\n",
    "        self._y_train = np.array(y, dtype='int')\n",
    "        self._n_classes = np.unique(y).shape[0]\n",
    "        self._n_X_train = self._X_train.shape[0]\n",
    "        if self._algorithm == 'kd_tree':\n",
    "            self._tree = KDTree(self._X_train)\n",
    "\n",
    "    def _general_predict(self, res, X, func):\n",
    "        stat = np.zeros(self._n_classes)\n",
    "\n",
    "        if self._algorithm == 'brute':\n",
    "            dists = pairwise_distances(X, self._X_train)\n",
    "            nearest_partitions = \\\n",
    "                np.argpartition(dists,\n",
    "                                self._n_neighbors + 1,\n",
    "                                axis=1)[:, :self._n_neighbors]\n",
    "        else:\n",
    "            nearest_partitions = \\\n",
    "                self._tree.query(X, k=self._n_neighbors, return_distance=False)\n",
    "\n",
    "        for i in range(nearest_partitions.shape[0]):\n",
    "            for j in range(nearest_partitions.shape[1]):\n",
    "                stat[self._y_train[nearest_partitions[i, j]]] += 1\n",
    "            res[i] = func(stat)\n",
    "            stat *= 0\n",
    "\n",
    "    def predict(self, X):\n",
    "        res = np.zeros((X.shape[0]), dtype='int')\n",
    "        self._general_predict(res, X,\n",
    "                              lambda x: np.argsort(x)[-1])\n",
    "        return res\n",
    "\n",
    "    def predict_proba(self, X):\n",
    "        res = np.zeros((X.shape[0], self._n_classes))\n",
    "        self._general_predict(res, X,\n",
    "                              lambda x: x / self._n_neighbors)\n",
    "        return res\n",
    "\n",
    "    def score(self, X, y):\n",
    "        return np.count_nonzero(self.predict(X) == y) / len(y)"
   ]
  },
  {
   "cell_type": "markdown",
   "metadata": {},
   "source": [
    "**IRIS**"
   ]
  },
  {
   "cell_type": "code",
   "execution_count": 3,
   "metadata": {},
   "outputs": [],
   "source": [
    "iris = datasets.load_iris()"
   ]
  },
  {
   "cell_type": "code",
   "execution_count": 4,
   "metadata": {},
   "outputs": [],
   "source": [
    "X_train, X_test, y_train, y_test = train_test_split(iris.data, iris.target, test_size=0.1, stratify=iris.target)"
   ]
  },
  {
   "cell_type": "code",
   "execution_count": 5,
   "metadata": {},
   "outputs": [],
   "source": [
    "clf = KNeighborsClassifier(n_neighbors=2, algorithm='brute')\n",
    "my_clf = MyKNeighborsClassifier(n_neighbors=2, algorithm='brute')"
   ]
  },
  {
   "cell_type": "code",
   "execution_count": 6,
   "metadata": {},
   "outputs": [
    {
     "name": "stdout",
     "output_type": "stream",
     "text": [
      "CPU times: user 2.26 ms, sys: 137 µs, total: 2.4 ms\n",
      "Wall time: 1.74 ms\n"
     ]
    },
    {
     "data": {
      "text/plain": [
       "KNeighborsClassifier(algorithm='brute', leaf_size=30, metric='minkowski',\n",
       "           metric_params=None, n_jobs=1, n_neighbors=2, p=2,\n",
       "           weights='uniform')"
      ]
     },
     "execution_count": 6,
     "metadata": {},
     "output_type": "execute_result"
    }
   ],
   "source": [
    "%time clf.fit(X_train, y_train)"
   ]
  },
  {
   "cell_type": "code",
   "execution_count": 7,
   "metadata": {},
   "outputs": [
    {
     "name": "stdout",
     "output_type": "stream",
     "text": [
      "CPU times: user 375 µs, sys: 0 ns, total: 375 µs\n",
      "Wall time: 392 µs\n"
     ]
    }
   ],
   "source": [
    "%time my_clf.fit(X_train, y_train)"
   ]
  },
  {
   "cell_type": "code",
   "execution_count": 8,
   "metadata": {},
   "outputs": [
    {
     "name": "stdout",
     "output_type": "stream",
     "text": [
      "CPU times: user 7.89 ms, sys: 5.86 ms, total: 13.7 ms\n",
      "Wall time: 305 ms\n"
     ]
    },
    {
     "data": {
      "text/plain": [
       "array([2, 0, 2, 0, 2, 0, 1, 1, 0, 0, 1, 1, 1, 2, 1])"
      ]
     },
     "execution_count": 8,
     "metadata": {},
     "output_type": "execute_result"
    }
   ],
   "source": [
    "%time clf.predict(X_test)"
   ]
  },
  {
   "cell_type": "code",
   "execution_count": 9,
   "metadata": {},
   "outputs": [
    {
     "name": "stdout",
     "output_type": "stream",
     "text": [
      "CPU times: user 1.65 ms, sys: 0 ns, total: 1.65 ms\n",
      "Wall time: 1.71 ms\n"
     ]
    },
    {
     "data": {
      "text/plain": [
       "array([2, 0, 2, 0, 2, 0, 1, 1, 0, 0, 1, 1, 1, 2, 1])"
      ]
     },
     "execution_count": 9,
     "metadata": {},
     "output_type": "execute_result"
    }
   ],
   "source": [
    "%time my_clf.predict(X_test)"
   ]
  },
  {
   "cell_type": "code",
   "execution_count": 10,
   "metadata": {},
   "outputs": [
    {
     "name": "stdout",
     "output_type": "stream",
     "text": [
      "CPU times: user 4.84 ms, sys: 166 µs, total: 5 ms\n",
      "Wall time: 4.06 ms\n"
     ]
    },
    {
     "data": {
      "text/plain": [
       "array([[0., 0., 1.],\n",
       "       [1., 0., 0.],\n",
       "       [0., 0., 1.],\n",
       "       [1., 0., 0.],\n",
       "       [0., 0., 1.],\n",
       "       [1., 0., 0.],\n",
       "       [0., 1., 0.],\n",
       "       [0., 1., 0.],\n",
       "       [1., 0., 0.],\n",
       "       [1., 0., 0.],\n",
       "       [0., 1., 0.],\n",
       "       [0., 1., 0.],\n",
       "       [0., 1., 0.],\n",
       "       [0., 0., 1.],\n",
       "       [0., 1., 0.]])"
      ]
     },
     "execution_count": 10,
     "metadata": {},
     "output_type": "execute_result"
    }
   ],
   "source": [
    "%time clf.predict_proba(X_test)"
   ]
  },
  {
   "cell_type": "code",
   "execution_count": 11,
   "metadata": {},
   "outputs": [
    {
     "name": "stdout",
     "output_type": "stream",
     "text": [
      "CPU times: user 2.51 ms, sys: 871 µs, total: 3.38 ms\n",
      "Wall time: 2.74 ms\n"
     ]
    },
    {
     "data": {
      "text/plain": [
       "array([[0., 0., 1.],\n",
       "       [1., 0., 0.],\n",
       "       [0., 0., 1.],\n",
       "       [1., 0., 0.],\n",
       "       [0., 0., 1.],\n",
       "       [1., 0., 0.],\n",
       "       [0., 1., 0.],\n",
       "       [0., 1., 0.],\n",
       "       [1., 0., 0.],\n",
       "       [1., 0., 0.],\n",
       "       [0., 1., 0.],\n",
       "       [0., 1., 0.],\n",
       "       [0., 1., 0.],\n",
       "       [0., 0., 1.],\n",
       "       [0., 1., 0.]])"
      ]
     },
     "execution_count": 11,
     "metadata": {},
     "output_type": "execute_result"
    }
   ],
   "source": [
    "%time my_clf.predict_proba(X_test)"
   ]
  },
  {
   "cell_type": "code",
   "execution_count": 12,
   "metadata": {},
   "outputs": [
    {
     "data": {
      "text/plain": [
       "0.9333333333333333"
      ]
     },
     "execution_count": 12,
     "metadata": {},
     "output_type": "execute_result"
    }
   ],
   "source": [
    "clf.score(X_test, y_test)"
   ]
  },
  {
   "cell_type": "code",
   "execution_count": 13,
   "metadata": {},
   "outputs": [
    {
     "data": {
      "text/plain": [
       "0.9333333333333333"
      ]
     },
     "execution_count": 13,
     "metadata": {},
     "output_type": "execute_result"
    }
   ],
   "source": [
    "my_clf.score(X_test, y_test)"
   ]
  },
  {
   "cell_type": "markdown",
   "metadata": {},
   "source": [
    "Задание 3"
   ]
  },
  {
   "cell_type": "code",
   "execution_count": 14,
   "metadata": {},
   "outputs": [
    {
     "name": "stdout",
     "output_type": "stream",
     "text": [
      "20\n"
     ]
    }
   ],
   "source": [
    "# %%pycodestyle\n",
    "\n",
    "res_neighbor_tests = np.zeros(50)\n",
    "for i_n_neighbor in range(1, 50 + 1):\n",
    "    num_test = 100\n",
    "    res_tests = np.zeros(num_test)\n",
    "    for i_test in range(num_test):\n",
    "        X_train, X_test, y_train, y_test = \\\n",
    "            train_test_split(iris.data,\n",
    "                             iris.target,\n",
    "                             test_size=0.1,\n",
    "                             stratify=iris.target)\n",
    "        my_clf = MyKNeighborsClassifier(n_neighbors=i_n_neighbor)\n",
    "        my_clf.fit(X_train, y_train)\n",
    "        res_tests[i_test] = my_clf.score(X_test, y_test)\n",
    "    res_neighbor_tests[i_n_neighbor - 1] = sum(res_tests) / num_test\n",
    "best_n_neighbor = res_neighbor_tests.argmax() + 1\n",
    "print(best_n_neighbor)"
   ]
  },
  {
   "cell_type": "code",
   "execution_count": 15,
   "metadata": {},
   "outputs": [
    {
     "data": {
      "text/plain": [
       "Text(0,0.5,'mean score')"
      ]
     },
     "execution_count": 15,
     "metadata": {},
     "output_type": "execute_result"
    },
    {
     "data": {
      "image/png": "[encoded data removed]",
      "text/plain": [
       "<Figure size 1008x360 with 1 Axes>"
      ]
     },
     "metadata": {
      "needs_background": "light"
     },
     "output_type": "display_data"
    }
   ],
   "source": [
    "# %%pycodestyle\n",
    "\n",
    "\n",
    "fig = plt.figure(figsize=(14, 5))\n",
    "ax = fig.add_subplot(111)\n",
    "ax.plot(range(1, 50 + 1), res_neighbor_tests)\n",
    "ax.axvline(x=best_n_neighbor,\n",
    "           ymax=res_neighbor_tests[best_n_neighbor],\n",
    "           linestyle=':')\n",
    "ax.set_xlabel('n_neighbor')\n",
    "ax.set_ylabel('mean score')"
   ]
  },
  {
   "cell_type": "markdown",
   "metadata": {},
   "source": [
    "**MNIST**"
   ]
  },
  {
   "cell_type": "code",
   "execution_count": 16,
   "metadata": {},
   "outputs": [],
   "source": [
    "mnist = fetch_mldata('MNIST original')"
   ]
  },
  {
   "cell_type": "code",
   "execution_count": 17,
   "metadata": {},
   "outputs": [],
   "source": [
    "X_train, X_test, y_train, y_test = train_test_split(mnist.data, mnist.target, test_size=0.01, stratify=mnist.target)"
   ]
  },
  {
   "cell_type": "code",
   "execution_count": 18,
   "metadata": {},
   "outputs": [],
   "source": [
    "clf = KNeighborsClassifier(n_neighbors=best_n_neighbor, algorithm='brute')\n",
    "my_clf = MyKNeighborsClassifier(n_neighbors=best_n_neighbor, algorithm='brute')"
   ]
  },
  {
   "cell_type": "code",
   "execution_count": 19,
   "metadata": {},
   "outputs": [
    {
     "name": "stdout",
     "output_type": "stream",
     "text": [
      "CPU times: user 20.9 ms, sys: 1.91 ms, total: 22.8 ms\n",
      "Wall time: 22.7 ms\n"
     ]
    },
    {
     "data": {
      "text/plain": [
       "KNeighborsClassifier(algorithm='brute', leaf_size=30, metric='minkowski',\n",
       "           metric_params=None, n_jobs=1, n_neighbors=20, p=2,\n",
       "           weights='uniform')"
      ]
     },
     "execution_count": 19,
     "metadata": {},
     "output_type": "execute_result"
    }
   ],
   "source": [
    "%time clf.fit(X_train, y_train)"
   ]
  },
  {
   "cell_type": "code",
   "execution_count": 20,
   "metadata": {},
   "outputs": [
    {
     "name": "stdout",
     "output_type": "stream",
     "text": [
      "CPU times: user 47.4 ms, sys: 78.8 ms, total: 126 ms\n",
      "Wall time: 34.1 ms\n"
     ]
    }
   ],
   "source": [
    "%time my_clf.fit(X_train, y_train)"
   ]
  },
  {
   "cell_type": "code",
   "execution_count": 21,
   "metadata": {},
   "outputs": [
    {
     "name": "stdout",
     "output_type": "stream",
     "text": [
      "CPU times: user 40.7 s, sys: 2.07 s, total: 42.7 s\n",
      "Wall time: 31.4 s\n"
     ]
    },
    {
     "data": {
      "text/plain": [
       "array([7., 1., 6., 4., 5., 7., 4., 9., 3., 4., 2., 5., 6., 3., 7., 3., 9.,\n",
       "       9., 3., 0., 5., 5., 2., 1., 9., 7., 3., 1., 5., 0., 9., 3., 3., 8.,\n",
       "       9., 9., 6., 0., 6., 3., 8., 7., 9., 7., 9., 6., 9., 2., 2., 5., 7.,\n",
       "       8., 9., 1., 7., 6., 8., 0., 1., 5., 6., 2., 0., 0., 0., 2., 7., 1.,\n",
       "       3., 7., 7., 5., 7., 0., 5., 0., 8., 1., 7., 9., 8., 9., 9., 1., 5.,\n",
       "       3., 2., 5., 9., 5., 4., 3., 9., 1., 3., 0., 7., 6., 1., 8., 3., 1.,\n",
       "       1., 8., 0., 2., 3., 7., 1., 0., 1., 6., 1., 6., 2., 4., 3., 3., 5.,\n",
       "       9., 3., 0., 5., 9., 1., 1., 4., 9., 0., 3., 4., 6., 2., 4., 0., 8.,\n",
       "       1., 7., 8., 8., 6., 4., 9., 3., 1., 7., 1., 2., 9., 1., 0., 0., 2.,\n",
       "       9., 2., 0., 2., 6., 2., 8., 0., 5., 0., 3., 0., 1., 3., 4., 1., 7.,\n",
       "       0., 0., 1., 4., 8., 8., 9., 1., 1., 0., 5., 0., 6., 7., 4., 9., 2.,\n",
       "       0., 3., 3., 6., 6., 8., 5., 7., 5., 8., 9., 9., 9., 7., 2., 7., 9.,\n",
       "       7., 2., 0., 4., 7., 6., 6., 4., 8., 3., 6., 5., 4., 3., 0., 2., 9.,\n",
       "       8., 3., 6., 4., 5., 0., 6., 7., 6., 7., 0., 8., 4., 8., 8., 1., 1.,\n",
       "       3., 7., 0., 4., 9., 2., 2., 1., 7., 4., 5., 8., 6., 7., 8., 8., 8.,\n",
       "       4., 4., 5., 4., 1., 4., 0., 9., 8., 9., 5., 2., 0., 6., 0., 2., 2.,\n",
       "       2., 9., 3., 5., 6., 5., 3., 7., 4., 3., 8., 1., 9., 4., 9., 1., 1.,\n",
       "       4., 4., 1., 7., 5., 0., 9., 0., 3., 5., 8., 4., 3., 4., 1., 7., 3.,\n",
       "       3., 9., 1., 7., 6., 3., 8., 4., 5., 9., 8., 1., 7., 3., 3., 8., 9.,\n",
       "       8., 5., 2., 2., 7., 1., 6., 7., 2., 8., 8., 4., 6., 3., 8., 7., 4.,\n",
       "       9., 4., 6., 2., 0., 3., 9., 2., 9., 7., 9., 0., 2., 3., 6., 0., 8.,\n",
       "       3., 0., 0., 2., 6., 6., 4., 5., 4., 5., 5., 2., 7., 2., 1., 7., 2.,\n",
       "       8., 5., 1., 0., 6., 4., 7., 7., 2., 2., 8., 4., 9., 6., 8., 1., 1.,\n",
       "       0., 7., 1., 1., 6., 1., 4., 6., 9., 2., 1., 7., 5., 3., 0., 7., 6.,\n",
       "       9., 8., 7., 1., 3., 4., 1., 1., 6., 1., 0., 5., 6., 5., 2., 4., 8.,\n",
       "       6., 3., 4., 5., 7., 2., 7., 8., 3., 1., 9., 8., 2., 1., 5., 0., 8.,\n",
       "       6., 4., 0., 1., 7., 8., 4., 3., 4., 6., 7., 5., 3., 5., 9., 5., 8.,\n",
       "       8., 4., 3., 9., 5., 4., 4., 9., 4., 2., 2., 4., 3., 0., 3., 1., 0.,\n",
       "       5., 3., 0., 2., 8., 4., 2., 9., 5., 1., 1., 7., 9., 2., 2., 7., 2.,\n",
       "       5., 5., 9., 2., 1., 1., 6., 0., 9., 9., 1., 3., 4., 9., 8., 6., 8.,\n",
       "       3., 7., 6., 2., 6., 7., 3., 3., 9., 5., 7., 1., 6., 4., 7., 9., 8.,\n",
       "       6., 9., 5., 7., 7., 8., 3., 4., 0., 3., 8., 6., 1., 7., 9., 6., 5.,\n",
       "       0., 1., 7., 7., 2., 3., 3., 2., 3., 5., 5., 1., 1., 7., 5., 7., 0.,\n",
       "       7., 2., 5., 4., 0., 6., 7., 0., 6., 1., 5., 2., 8., 5., 8., 6., 8.,\n",
       "       8., 2., 6., 3., 2., 9., 2., 1., 3., 1., 9., 5., 5., 9., 0., 9., 7.,\n",
       "       1., 1., 0., 3., 3., 3., 9., 4., 6., 2., 8., 9., 7., 5., 7., 5., 1.,\n",
       "       5., 2., 2., 0., 1., 1., 1., 4., 9., 7., 1., 5., 0., 0., 6., 1., 0.,\n",
       "       6., 4., 1., 9., 4., 6., 9., 3., 6., 4., 7., 4., 3., 1., 7., 6., 7.,\n",
       "       4., 6., 2., 7., 9., 0., 6., 4., 5., 3., 2., 6., 7., 4., 6., 4., 4.,\n",
       "       7., 8., 4., 1., 9., 7., 5., 2., 6., 4., 0., 3., 5., 8., 2., 1., 0.,\n",
       "       3., 1., 4., 3., 8., 1., 0., 0., 3., 6., 6., 0., 3., 1., 6., 8., 1.,\n",
       "       9., 2., 3.])"
      ]
     },
     "execution_count": 21,
     "metadata": {},
     "output_type": "execute_result"
    }
   ],
   "source": [
    "%time clf.predict(X_test)"
   ]
  },
  {
   "cell_type": "code",
   "execution_count": 22,
   "metadata": {},
   "outputs": [
    {
     "name": "stdout",
     "output_type": "stream",
     "text": [
      "CPU times: user 40.6 s, sys: 1.37 s, total: 42 s\n",
      "Wall time: 12.8 s\n"
     ]
    },
    {
     "data": {
      "text/plain": [
       "array([7, 1, 6, 4, 5, 7, 4, 9, 3, 4, 2, 5, 6, 3, 7, 3, 9, 9, 3, 0, 5, 5,\n",
       "       2, 1, 9, 7, 3, 1, 5, 0, 9, 3, 3, 8, 9, 9, 6, 0, 6, 3, 8, 7, 9, 7,\n",
       "       9, 6, 9, 2, 2, 5, 7, 8, 9, 1, 7, 6, 8, 0, 1, 5, 6, 2, 0, 0, 0, 2,\n",
       "       7, 1, 3, 7, 7, 5, 7, 0, 5, 0, 8, 1, 7, 9, 8, 9, 9, 1, 5, 3, 2, 5,\n",
       "       9, 5, 4, 3, 9, 1, 3, 0, 7, 6, 1, 8, 3, 1, 1, 8, 0, 2, 3, 7, 1, 0,\n",
       "       1, 6, 1, 6, 2, 4, 3, 3, 5, 9, 3, 0, 5, 9, 1, 1, 4, 9, 0, 3, 4, 6,\n",
       "       2, 4, 0, 8, 1, 7, 8, 8, 6, 4, 9, 3, 1, 7, 1, 2, 9, 1, 0, 0, 2, 9,\n",
       "       2, 0, 2, 6, 2, 8, 0, 5, 0, 3, 0, 1, 3, 4, 1, 7, 0, 0, 1, 4, 8, 8,\n",
       "       9, 1, 1, 0, 5, 0, 6, 7, 4, 9, 2, 0, 3, 3, 6, 6, 8, 5, 7, 5, 8, 9,\n",
       "       9, 9, 7, 2, 7, 9, 7, 2, 0, 4, 7, 6, 6, 4, 8, 3, 6, 5, 4, 3, 0, 2,\n",
       "       9, 8, 3, 6, 4, 5, 0, 6, 7, 6, 7, 0, 8, 4, 8, 8, 1, 1, 3, 7, 0, 4,\n",
       "       9, 2, 2, 1, 7, 4, 5, 8, 6, 7, 8, 8, 8, 4, 4, 5, 4, 1, 4, 0, 9, 8,\n",
       "       9, 5, 2, 0, 6, 0, 2, 2, 2, 9, 3, 5, 6, 5, 3, 7, 4, 3, 8, 1, 9, 4,\n",
       "       9, 1, 1, 4, 4, 1, 7, 5, 0, 9, 0, 3, 5, 8, 4, 3, 4, 1, 7, 3, 3, 9,\n",
       "       1, 7, 6, 3, 8, 4, 5, 9, 8, 1, 7, 3, 3, 8, 9, 8, 5, 2, 2, 7, 1, 6,\n",
       "       7, 2, 8, 8, 4, 6, 3, 8, 7, 4, 9, 4, 6, 2, 0, 3, 9, 2, 9, 7, 9, 0,\n",
       "       2, 3, 6, 0, 8, 3, 0, 0, 2, 6, 6, 4, 5, 4, 5, 5, 2, 7, 2, 1, 7, 2,\n",
       "       8, 5, 1, 0, 6, 4, 7, 7, 2, 2, 8, 4, 9, 6, 8, 1, 1, 0, 7, 1, 1, 6,\n",
       "       1, 4, 6, 9, 2, 1, 7, 5, 3, 0, 7, 6, 9, 8, 7, 1, 3, 4, 1, 1, 6, 1,\n",
       "       0, 5, 6, 5, 2, 4, 8, 6, 3, 4, 5, 7, 2, 7, 8, 3, 1, 9, 8, 2, 2, 5,\n",
       "       0, 8, 6, 4, 0, 1, 7, 8, 4, 3, 4, 6, 7, 5, 3, 5, 9, 5, 8, 8, 4, 3,\n",
       "       9, 5, 4, 4, 9, 4, 2, 2, 4, 3, 0, 3, 1, 0, 5, 3, 0, 2, 8, 4, 2, 9,\n",
       "       5, 1, 1, 7, 9, 2, 2, 7, 2, 5, 5, 9, 2, 1, 1, 6, 0, 9, 9, 1, 3, 4,\n",
       "       9, 8, 6, 8, 3, 7, 6, 2, 6, 7, 3, 3, 9, 5, 7, 1, 6, 4, 7, 9, 8, 6,\n",
       "       9, 5, 7, 7, 8, 3, 4, 0, 3, 8, 6, 1, 7, 9, 6, 5, 0, 1, 7, 7, 2, 3,\n",
       "       3, 2, 3, 5, 5, 1, 1, 7, 5, 7, 0, 7, 2, 5, 4, 0, 6, 7, 0, 6, 1, 5,\n",
       "       2, 8, 5, 8, 6, 8, 8, 2, 6, 3, 2, 9, 2, 1, 3, 1, 9, 5, 5, 9, 0, 9,\n",
       "       7, 1, 1, 0, 3, 3, 3, 9, 4, 6, 2, 8, 9, 7, 5, 7, 5, 1, 5, 2, 2, 0,\n",
       "       1, 6, 1, 4, 9, 7, 1, 5, 0, 0, 6, 1, 0, 6, 4, 1, 9, 4, 6, 9, 3, 6,\n",
       "       4, 7, 4, 3, 1, 7, 6, 7, 4, 6, 2, 7, 9, 0, 6, 4, 5, 3, 2, 6, 7, 4,\n",
       "       6, 4, 4, 7, 8, 4, 1, 9, 7, 5, 2, 6, 4, 0, 3, 5, 8, 2, 1, 0, 3, 1,\n",
       "       4, 3, 8, 1, 0, 0, 3, 6, 6, 0, 3, 1, 6, 8, 1, 9, 2, 3])"
      ]
     },
     "execution_count": 22,
     "metadata": {},
     "output_type": "execute_result"
    }
   ],
   "source": [
    "%time my_clf.predict(X_test)"
   ]
  },
  {
   "cell_type": "code",
   "execution_count": 23,
   "metadata": {},
   "outputs": [
    {
     "name": "stdout",
     "output_type": "stream",
     "text": [
      "CPU times: user 39.6 s, sys: 1.35 s, total: 41 s\n",
      "Wall time: 12.6 s\n"
     ]
    },
    {
     "data": {
      "text/plain": [
       "array([[0.  , 0.  , 0.  , ..., 1.  , 0.  , 0.  ],\n",
       "       [0.  , 1.  , 0.  , ..., 0.  , 0.  , 0.  ],\n",
       "       [0.  , 0.  , 0.  , ..., 0.  , 0.  , 0.  ],\n",
       "       ...,\n",
       "       [0.  , 0.  , 0.  , ..., 0.  , 0.  , 1.  ],\n",
       "       [0.  , 0.  , 0.95, ..., 0.05, 0.  , 0.  ],\n",
       "       [0.  , 0.  , 0.  , ..., 0.  , 0.  , 0.  ]])"
      ]
     },
     "execution_count": 23,
     "metadata": {},
     "output_type": "execute_result"
    }
   ],
   "source": [
    "%time clf.predict_proba(X_test)"
   ]
  },
  {
   "cell_type": "code",
   "execution_count": 24,
   "metadata": {},
   "outputs": [
    {
     "name": "stdout",
     "output_type": "stream",
     "text": [
      "CPU times: user 41.2 s, sys: 1.44 s, total: 42.6 s\n",
      "Wall time: 13.2 s\n"
     ]
    },
    {
     "data": {
      "text/plain": [
       "array([[0.  , 0.  , 0.  , ..., 1.  , 0.  , 0.  ],\n",
       "       [0.  , 1.  , 0.  , ..., 0.  , 0.  , 0.  ],\n",
       "       [0.  , 0.  , 0.  , ..., 0.  , 0.  , 0.  ],\n",
       "       ...,\n",
       "       [0.  , 0.  , 0.  , ..., 0.  , 0.  , 1.  ],\n",
       "       [0.  , 0.  , 0.95, ..., 0.05, 0.  , 0.  ],\n",
       "       [0.  , 0.  , 0.  , ..., 0.  , 0.  , 0.  ]])"
      ]
     },
     "execution_count": 24,
     "metadata": {},
     "output_type": "execute_result"
    }
   ],
   "source": [
    "%time my_clf.predict_proba(X_test)"
   ]
  },
  {
   "cell_type": "code",
   "execution_count": 25,
   "metadata": {},
   "outputs": [
    {
     "data": {
      "text/plain": [
       "0.9614285714285714"
      ]
     },
     "execution_count": 25,
     "metadata": {},
     "output_type": "execute_result"
    }
   ],
   "source": [
    "clf.score(X_test, y_test)"
   ]
  },
  {
   "cell_type": "code",
   "execution_count": 26,
   "metadata": {},
   "outputs": [
    {
     "data": {
      "text/plain": [
       "0.9642857142857143"
      ]
     },
     "execution_count": 26,
     "metadata": {},
     "output_type": "execute_result"
    }
   ],
   "source": [
    "my_clf.score(X_test, y_test)"
   ]
  },
  {
   "cell_type": "markdown",
   "metadata": {},
   "source": [
    "Задание 4"
   ]
  },
  {
   "cell_type": "code",
   "execution_count": 27,
   "metadata": {},
   "outputs": [],
   "source": [
    "clf = KNeighborsClassifier(n_neighbors=best_n_neighbor, algorithm='kd_tree')\n",
    "my_clf = MyKNeighborsClassifier(n_neighbors=best_n_neighbor, algorithm='kd_tree')"
   ]
  },
  {
   "cell_type": "code",
   "execution_count": 28,
   "metadata": {},
   "outputs": [],
   "source": [
    "X_train, X_test, y_train, y_test = train_test_split(mnist.data, mnist.target, test_size=0.01, stratify=mnist.target)"
   ]
  },
  {
   "cell_type": "code",
   "execution_count": 29,
   "metadata": {},
   "outputs": [
    {
     "name": "stdout",
     "output_type": "stream",
     "text": [
      "CPU times: user 3min 6s, sys: 1.24 s, total: 3min 7s\n",
      "Wall time: 3min 9s\n"
     ]
    },
    {
     "data": {
      "text/plain": [
       "KNeighborsClassifier(algorithm='kd_tree', leaf_size=30, metric='minkowski',\n",
       "           metric_params=None, n_jobs=1, n_neighbors=20, p=2,\n",
       "           weights='uniform')"
      ]
     },
     "execution_count": 29,
     "metadata": {},
     "output_type": "execute_result"
    }
   ],
   "source": [
    "%time clf.fit(X_train, y_train)"
   ]
  },
  {
   "cell_type": "code",
   "execution_count": 30,
   "metadata": {},
   "outputs": [
    {
     "name": "stdout",
     "output_type": "stream",
     "text": [
      "CPU times: user 3min 7s, sys: 2.42 s, total: 3min 9s\n",
      "Wall time: 3min 31s\n"
     ]
    }
   ],
   "source": [
    "%time my_clf.fit(X_train, y_train)"
   ]
  },
  {
   "cell_type": "code",
   "execution_count": 31,
   "metadata": {},
   "outputs": [
    {
     "name": "stdout",
     "output_type": "stream",
     "text": [
      "CPU times: user 3min 57s, sys: 3.36 s, total: 4min\n",
      "Wall time: 5min 22s\n"
     ]
    },
    {
     "data": {
      "text/plain": [
       "array([3., 4., 6., 9., 1., 7., 3., 6., 2., 6., 2., 9., 2., 2., 7., 1., 3.,\n",
       "       3., 3., 0., 5., 4., 3., 0., 6., 9., 4., 4., 1., 5., 3., 6., 4., 2.,\n",
       "       2., 0., 3., 4., 2., 9., 7., 9., 5., 1., 9., 1., 4., 9., 2., 8., 5.,\n",
       "       5., 2., 0., 7., 3., 4., 9., 7., 4., 8., 8., 0., 5., 0., 6., 6., 8.,\n",
       "       3., 5., 7., 7., 9., 2., 0., 4., 1., 3., 8., 5., 4., 1., 6., 7., 9.,\n",
       "       6., 7., 1., 8., 6., 5., 1., 3., 9., 0., 8., 7., 9., 3., 6., 7., 9.,\n",
       "       1., 1., 4., 5., 9., 1., 1., 1., 8., 6., 7., 9., 4., 3., 3., 2., 9.,\n",
       "       4., 4., 1., 5., 5., 7., 8., 6., 2., 9., 0., 5., 5., 9., 7., 6., 9.,\n",
       "       3., 6., 1., 7., 4., 7., 8., 7., 2., 6., 4., 9., 9., 6., 1., 6., 0.,\n",
       "       1., 2., 7., 3., 1., 4., 6., 0., 7., 0., 3., 2., 1., 9., 0., 5., 1.,\n",
       "       3., 1., 0., 1., 4., 1., 7., 7., 3., 7., 1., 1., 2., 6., 1., 4., 2.,\n",
       "       3., 9., 3., 3., 4., 7., 7., 4., 7., 5., 1., 1., 8., 3., 5., 0., 5.,\n",
       "       2., 5., 8., 2., 4., 0., 8., 5., 7., 1., 7., 2., 2., 9., 8., 5., 2.,\n",
       "       4., 9., 3., 5., 0., 1., 1., 7., 1., 8., 7., 0., 4., 0., 3., 3., 5.,\n",
       "       0., 3., 4., 4., 9., 7., 7., 8., 2., 3., 4., 0., 0., 6., 6., 6., 4.,\n",
       "       4., 1., 1., 2., 8., 8., 1., 8., 4., 7., 2., 1., 2., 2., 3., 3., 8.,\n",
       "       6., 3., 9., 2., 1., 0., 4., 3., 1., 3., 2., 6., 6., 5., 7., 9., 0.,\n",
       "       5., 4., 2., 0., 8., 2., 0., 0., 5., 8., 2., 0., 9., 0., 0., 0., 1.,\n",
       "       8., 4., 5., 2., 5., 5., 4., 6., 6., 3., 6., 4., 8., 1., 3., 1., 7.,\n",
       "       1., 6., 4., 9., 6., 1., 7., 5., 3., 1., 2., 3., 1., 6., 8., 1., 9.,\n",
       "       7., 0., 0., 7., 4., 0., 2., 8., 8., 0., 9., 1., 0., 7., 4., 2., 0.,\n",
       "       2., 6., 2., 8., 7., 2., 9., 9., 5., 8., 4., 8., 0., 3., 1., 6., 5.,\n",
       "       9., 4., 3., 2., 7., 3., 5., 1., 5., 0., 8., 3., 0., 7., 5., 5., 9.,\n",
       "       6., 9., 8., 0., 7., 9., 0., 0., 9., 7., 7., 5., 6., 5., 7., 7., 7.,\n",
       "       2., 7., 9., 8., 9., 2., 0., 5., 5., 4., 0., 5., 0., 1., 8., 9., 7.,\n",
       "       6., 7., 0., 4., 6., 5., 3., 7., 1., 9., 8., 5., 7., 4., 3., 1., 2.,\n",
       "       2., 6., 6., 4., 3., 6., 7., 0., 6., 4., 7., 7., 5., 7., 0., 1., 7.,\n",
       "       0., 3., 5., 2., 1., 3., 6., 4., 0., 1., 5., 1., 2., 7., 7., 3., 5.,\n",
       "       8., 9., 6., 3., 2., 0., 6., 6., 4., 8., 4., 9., 3., 1., 4., 1., 2.,\n",
       "       2., 2., 6., 1., 7., 9., 1., 1., 1., 3., 1., 6., 8., 6., 7., 7., 4.,\n",
       "       1., 4., 3., 3., 6., 4., 0., 1., 9., 1., 3., 7., 4., 7., 6., 5., 2.,\n",
       "       8., 5., 2., 3., 7., 4., 2., 2., 4., 9., 2., 1., 9., 4., 7., 7., 2.,\n",
       "       5., 8., 8., 3., 8., 2., 1., 5., 2., 5., 1., 4., 2., 5., 8., 6., 3.,\n",
       "       3., 9., 0., 1., 5., 4., 3., 0., 2., 3., 5., 6., 0., 6., 8., 6., 3.,\n",
       "       7., 0., 9., 1., 0., 9., 9., 0., 1., 6., 0., 6., 9., 9., 8., 7., 4.,\n",
       "       8., 2., 3., 0., 3., 2., 6., 0., 4., 8., 8., 4., 1., 1., 9., 2., 7.,\n",
       "       4., 5., 7., 3., 9., 0., 9., 6., 4., 3., 5., 1., 9., 9., 3., 9., 0.,\n",
       "       8., 3., 6., 6., 3., 5., 6., 4., 7., 3., 8., 9., 6., 6., 0., 8., 4.,\n",
       "       7., 6., 5., 0., 0., 5., 4., 3., 9., 2., 8., 9., 7., 9., 2., 6., 6.,\n",
       "       2., 8., 6., 0., 1., 4., 9., 7., 0., 2., 5., 9., 3., 1., 5., 3., 3.,\n",
       "       8., 1., 6., 2., 9., 9., 4., 3., 2., 7., 4., 8., 5., 2., 8., 4., 8.,\n",
       "       5., 9., 1.])"
      ]
     },
     "execution_count": 31,
     "metadata": {},
     "output_type": "execute_result"
    }
   ],
   "source": [
    "%time clf.predict(X_test)"
   ]
  },
  {
   "cell_type": "code",
   "execution_count": 32,
   "metadata": {},
   "outputs": [
    {
     "name": "stdout",
     "output_type": "stream",
     "text": [
      "CPU times: user 3min 17s, sys: 2.74 s, total: 3min 19s\n",
      "Wall time: 4min 4s\n"
     ]
    },
    {
     "data": {
      "text/plain": [
       "array([3, 4, 6, 9, 1, 7, 3, 6, 2, 6, 2, 9, 2, 2, 7, 1, 3, 3, 3, 0, 5, 4,\n",
       "       3, 0, 6, 9, 4, 4, 1, 5, 3, 6, 4, 2, 2, 0, 3, 4, 2, 9, 7, 9, 5, 1,\n",
       "       9, 1, 4, 9, 2, 8, 5, 5, 2, 0, 7, 3, 4, 9, 7, 4, 8, 8, 0, 5, 0, 6,\n",
       "       6, 8, 3, 5, 7, 7, 9, 2, 0, 4, 1, 3, 8, 5, 4, 1, 6, 7, 9, 6, 7, 1,\n",
       "       8, 6, 5, 1, 3, 9, 0, 8, 7, 9, 3, 6, 7, 9, 1, 1, 4, 5, 9, 1, 1, 1,\n",
       "       8, 6, 7, 9, 4, 3, 3, 2, 9, 4, 4, 1, 5, 5, 7, 8, 6, 2, 9, 0, 5, 5,\n",
       "       9, 7, 6, 9, 3, 6, 1, 7, 4, 7, 8, 7, 2, 6, 4, 9, 9, 6, 1, 6, 0, 1,\n",
       "       2, 7, 3, 1, 4, 6, 0, 7, 0, 8, 2, 1, 9, 0, 5, 1, 3, 1, 0, 1, 4, 1,\n",
       "       7, 7, 3, 7, 1, 1, 2, 6, 1, 4, 2, 3, 9, 3, 3, 4, 7, 7, 4, 7, 5, 1,\n",
       "       1, 8, 3, 5, 0, 5, 2, 5, 8, 2, 4, 0, 8, 5, 7, 1, 7, 2, 2, 9, 8, 5,\n",
       "       2, 4, 9, 3, 5, 0, 1, 1, 7, 1, 8, 7, 0, 4, 0, 3, 3, 5, 0, 3, 4, 4,\n",
       "       9, 7, 7, 8, 2, 3, 4, 0, 0, 6, 6, 6, 4, 4, 1, 1, 2, 8, 8, 1, 8, 9,\n",
       "       7, 2, 1, 2, 2, 3, 3, 8, 6, 3, 9, 2, 1, 0, 4, 3, 1, 3, 2, 6, 6, 5,\n",
       "       7, 9, 0, 5, 4, 2, 0, 8, 2, 0, 0, 5, 8, 2, 0, 9, 0, 0, 0, 1, 8, 4,\n",
       "       5, 2, 5, 5, 4, 6, 6, 3, 6, 4, 8, 1, 3, 1, 7, 1, 6, 4, 9, 6, 1, 7,\n",
       "       5, 3, 1, 2, 3, 1, 6, 8, 1, 9, 7, 0, 0, 7, 4, 0, 2, 8, 8, 0, 9, 1,\n",
       "       0, 7, 4, 2, 0, 2, 6, 2, 8, 7, 2, 9, 9, 5, 8, 4, 8, 0, 3, 1, 6, 5,\n",
       "       9, 4, 3, 2, 7, 3, 5, 1, 5, 0, 8, 3, 0, 7, 5, 5, 9, 6, 9, 8, 0, 7,\n",
       "       9, 0, 0, 9, 7, 7, 5, 6, 5, 7, 7, 7, 2, 7, 9, 8, 9, 2, 0, 5, 5, 4,\n",
       "       0, 5, 0, 1, 8, 9, 7, 6, 7, 0, 4, 6, 5, 3, 7, 1, 9, 8, 5, 7, 4, 3,\n",
       "       1, 2, 2, 6, 6, 4, 3, 6, 7, 0, 6, 4, 7, 7, 5, 7, 0, 1, 7, 0, 3, 5,\n",
       "       2, 1, 3, 6, 4, 0, 1, 5, 1, 2, 7, 7, 3, 5, 8, 9, 6, 3, 2, 0, 6, 6,\n",
       "       4, 8, 4, 9, 3, 1, 4, 1, 2, 2, 2, 6, 1, 7, 9, 1, 1, 1, 3, 1, 6, 8,\n",
       "       6, 7, 7, 4, 1, 4, 3, 3, 6, 4, 0, 1, 9, 1, 3, 7, 4, 7, 6, 5, 2, 8,\n",
       "       5, 2, 3, 7, 4, 2, 2, 4, 9, 2, 1, 9, 4, 7, 7, 2, 5, 8, 8, 3, 8, 2,\n",
       "       1, 5, 2, 5, 1, 4, 2, 5, 8, 6, 3, 3, 9, 0, 1, 5, 9, 3, 0, 2, 3, 5,\n",
       "       6, 0, 6, 8, 6, 3, 7, 0, 9, 1, 0, 9, 9, 0, 1, 6, 0, 6, 9, 9, 8, 7,\n",
       "       4, 8, 2, 3, 0, 3, 2, 6, 0, 4, 8, 8, 4, 1, 1, 9, 2, 7, 4, 5, 7, 3,\n",
       "       9, 0, 9, 6, 4, 3, 5, 1, 9, 9, 3, 9, 0, 8, 3, 6, 6, 3, 5, 6, 4, 7,\n",
       "       3, 8, 9, 6, 6, 0, 8, 4, 7, 6, 5, 0, 0, 5, 4, 3, 9, 2, 8, 9, 7, 9,\n",
       "       2, 6, 6, 2, 8, 6, 0, 1, 4, 9, 7, 0, 2, 5, 9, 3, 1, 5, 3, 3, 8, 1,\n",
       "       6, 2, 9, 9, 4, 3, 2, 7, 4, 8, 5, 2, 8, 4, 8, 5, 9, 1])"
      ]
     },
     "execution_count": 32,
     "metadata": {},
     "output_type": "execute_result"
    }
   ],
   "source": [
    "%time my_clf.predict(X_test)"
   ]
  },
  {
   "cell_type": "code",
   "execution_count": 33,
   "metadata": {},
   "outputs": [
    {
     "name": "stdout",
     "output_type": "stream",
     "text": [
      "CPU times: user 3min 57s, sys: 3.11 s, total: 4min 1s\n",
      "Wall time: 5min 19s\n"
     ]
    },
    {
     "data": {
      "text/plain": [
       "array([[0., 0., 0., ..., 0., 0., 0.],\n",
       "       [0., 0., 0., ..., 0., 0., 0.],\n",
       "       [0., 0., 0., ..., 0., 0., 0.],\n",
       "       ...,\n",
       "       [0., 0., 0., ..., 0., 0., 0.],\n",
       "       [0., 0., 0., ..., 0., 0., 1.],\n",
       "       [0., 1., 0., ..., 0., 0., 0.]])"
      ]
     },
     "execution_count": 33,
     "metadata": {},
     "output_type": "execute_result"
    }
   ],
   "source": [
    "%time clf.predict_proba(X_test)"
   ]
  },
  {
   "cell_type": "code",
   "execution_count": 34,
   "metadata": {},
   "outputs": [
    {
     "name": "stdout",
     "output_type": "stream",
     "text": [
      "CPU times: user 3min 17s, sys: 1.72 s, total: 3min 19s\n",
      "Wall time: 3min 38s\n"
     ]
    },
    {
     "data": {
      "text/plain": [
       "array([[0., 0., 0., ..., 0., 0., 0.],\n",
       "       [0., 0., 0., ..., 0., 0., 0.],\n",
       "       [0., 0., 0., ..., 0., 0., 0.],\n",
       "       ...,\n",
       "       [0., 0., 0., ..., 0., 0., 0.],\n",
       "       [0., 0., 0., ..., 0., 0., 1.],\n",
       "       [0., 1., 0., ..., 0., 0., 0.]])"
      ]
     },
     "execution_count": 34,
     "metadata": {},
     "output_type": "execute_result"
    }
   ],
   "source": [
    "%time my_clf.predict_proba(X_test)"
   ]
  },
  {
   "cell_type": "code",
   "execution_count": 35,
   "metadata": {},
   "outputs": [
    {
     "data": {
      "text/plain": [
       "0.9571428571428572"
      ]
     },
     "execution_count": 35,
     "metadata": {},
     "output_type": "execute_result"
    }
   ],
   "source": [
    "clf.score(X_test, y_test)"
   ]
  },
  {
   "cell_type": "code",
   "execution_count": 36,
   "metadata": {},
   "outputs": [
    {
     "data": {
      "text/plain": [
       "0.9614285714285714"
      ]
     },
     "execution_count": 36,
     "metadata": {},
     "output_type": "execute_result"
    }
   ],
   "source": [
    "my_clf.score(X_test, y_test)"
   ]
  },
  {
   "cell_type": "markdown",
   "metadata": {},
   "source": [
    "Задание 5"
   ]
  },
  {
   "cell_type": "code",
   "execution_count": 37,
   "metadata": {},
   "outputs": [
    {
     "data": {
      "text/plain": [
       "'Добавляет метод обучения для целых целевых меток.'"
      ]
     },
     "execution_count": 37,
     "metadata": {},
     "output_type": "execute_result"
    }
   ],
   "source": [
    "# seaborn\n",
    "'''Библиотека визуализации с high-level interface основанная на matplotlib.'''\n",
    "# matplotlib\n",
    "'''Библиотека для визуализации данных двумерной графикой.'''\n",
    "# train_test_split\n",
    "'''Функция библиотеки sklearn, разбивающая массивы или матрицы\n",
    "на случайную тренировочую выборку и случайную тестирующую'''\n",
    "# Pipelin%load_ext e (from sklearn.pipeline import Pipeline)\n",
    "'''Функция позволяющая изменить входные данные и передать на вход следующей'''\n",
    "# StandardScaler (from sklearn.preprocessing import StandardScaler)\n",
    "'''Класс позволяющий нормировать фичи обнуляя мат ожидание и приводя дисперсию к единице'''\n",
    "# ClassifierMixin\n",
    "'''Класс наследуемый всеми классификаторами в scikit-learn. Содержит метод score'''\n",
    "# NeighborsBase\n",
    "'''Наследуемый класс классификаторами на основе kNN.\n",
    "Инициализирует конструктор классификатора.'''\n",
    "# KNeighborsMixin\n",
    "'''Аналогично, но содержит методы поиска соседей, определения до них расстояния.'''\n",
    "# SupervisedIntegerMixin\n",
    "'''Добавляет метод обучения для целых целевых меток.'''"
   ]
  }
 ],
 "metadata": {
  "kernelspec": {
   "display_name": "Python 3",
   "language": "python",
   "name": "python3"
  },
  "language_info": {
   "codemirror_mode": {
    "name": "ipython",
    "version": 3
   },
   "file_extension": ".py",
   "mimetype": "text/x-python",
   "name": "python",
   "nbconvert_exporter": "python",
   "pygments_lexer": "ipython3",
   "version": "3.7.0"
  }
 },
 "nbformat": 4,
 "nbformat_minor": 2
}
