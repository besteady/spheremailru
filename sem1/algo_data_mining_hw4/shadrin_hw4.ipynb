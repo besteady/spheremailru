{
 "cells": [
  {
   "cell_type": "markdown",
   "metadata": {},
   "source": [
    "# Алгоритмы интеллектуальной обработки больших объемов данных\n",
    "## Домашнее задание №4 - Метод k-средних, предобработка признаков\n"
   ]
  },
  {
   "cell_type": "markdown",
   "metadata": {},
   "source": [
    "###### <hr\\>\n",
    "**Общая информация**\n",
    "\n",
    "**Срок сдачи:** 28 ноября 2018, 06:00 <br\\>\n",
    "**Штраф за опоздание:** -2 балла после 06:00 28 ноября, -4 балла после 06:00 5 декабря, -6 баллов после 06:00 12 декабря, -8 баллов после 19 декабря\n",
    "\n",
    "При отправлении ДЗ указывайте фамилию в названии файла\n",
    "Присылать ДЗ необходимо в виде ссылки на свой github репозиторий в slack @alkhamush\n",
    "\n",
    "Необходимо в slack создать таск в приватный чат:\n",
    "/todo Фамилия Имя ссылка на гитхаб @alkhamush\n",
    "Пример:\n",
    "/todo Ксения Стройкова https://github.com/stroykova/spheremailru/stroykova_hw1.ipynb @alkhamush\n",
    "Дополнительно нужно просто скинуть ссылку в slack в личный чат\n",
    "\n",
    "Используйте данный Ipython Notebook при оформлении домашнего задания."
   ]
  },
  {
   "cell_type": "markdown",
   "metadata": {},
   "source": [
    "# Имплементация K-means\n",
    "\n",
    "Пользуясь наработками выше, имплементируйте метод k-means.  \n",
    "При инициализации необходимо задавать количество кластеров, функцию расстояния между кластерами (для оригинального k-means - евклидово расстояние) и начальное состояние генератора случайных чисел.\n",
    "\n",
    "После обучения, среди атрибутов класса `Kmeans` должны появится\n",
    "* Метки кластеров для объектов\n",
    "* Координаты центройдов кластеров\n",
    "\n",
    "k-means - это алгоритм **кластеризации**, а не классификации, а посему метод `.predict()` в нем фактически не нужен, но он может возвращать метки ближайшего кластера для объектов."
   ]
  },
  {
   "cell_type": "markdown",
   "metadata": {},
   "source": [
    "###### Задание 1 (2 баллов)\n",
    "Имплементируйте метод k-means. Задание считается выполненным, если Ваша реализация работает быстрее реализации из sklearn.\n",
    "\n",
    "Теория для выполнения задания 2 и 3 остаётся на самостоятельное изучение. Теории немного и она совсем простая.\n",
    "\n",
    "###### Задание 2 (2 балла)\n",
    "Имплементируйте класс MiniBatchKMeans, который является классом наследником Kmeans.\n",
    "\n",
    "###### Задание 3 (2 балла)\n",
    "Превратите k-means в k-means++. Для этого нужно реализовать метод в классе Kmeans, который будет инициализировать более \"хорошие\" значения центроидов. Чтобы использовался метод k-means++, в параметр init необходимо передать строковое значение 'k-means' (по умолчанию 'random').\n",
    "\n",
    "###### Задание 4 (2 балла)\n",
    "В пункте \"Проверка корректности метода\" нужно нарисовать графики, которые показывают зависимость времени выполнения алгоритма от количества сэмплов. Графики должны быть  нарисованы для различных комбинаций реализаций алгоритма (k-means, k-means++, k-means с MiniBatchKMeans, k-means++ с MiniBatchKMeans). График достаточно построить на 5-10 точках.\n",
    "\n",
    "###### Задание 5 (2 балла)\n",
    "В пункте \"Применение K-means на реальных данных\" нужно сравнить различные реализации k-means (k-means, k-means++, k-means с MiniBatchKMeans, k-means++ с MiniBatchKMeans). После чего написать вывод, в котором должно быть объяснение того, почему один алгоритм оказался лучше остальных или почему не было выявлено лучшего алгоритма.\n",
    "\n",
    "**Штрафные баллы:**\n",
    "\n",
    "1. Невыполнение PEP8 -1 балл\n",
    "2. Отсутствие фамилии в имени скрипта (скрипт должен называться по аналогии со stroykova_hw4.ipynb) -1 балл\n",
    "3. Все строчки должны быть выполнены. Нужно, чтобы output команды можно было увидеть уже в git'е. В противном случае -1 балл\n",
    "4. При оформлении ДЗ нужно пользоваться данным файлом в качестве шаблона. Не нужно удалять и видоизменять написанный код и текст. В противном случае -1 балл\n",
    "<hr\\>"
   ]
  },
  {
   "cell_type": "code",
   "execution_count": 1,
   "metadata": {},
   "outputs": [],
   "source": [
    "import pandas as pd\n",
    "import numpy as np\n",
    "import matplotlib.pyplot as plt\n",
    "import warnings\n",
    "warnings.filterwarnings(\"ignore\")\n",
    "\n",
    "%matplotlib inline\n",
    "\n",
    "plt.style.use('ggplot')\n",
    "plt.rcParams['figure.figsize'] = (12,5)\n",
    "\n",
    "\n",
    "# %load_ext pycodestyle_magic"
   ]
  },
  {
   "cell_type": "code",
   "execution_count": 3,
   "metadata": {},
   "outputs": [],
   "source": [
    "from sklearn.metrics import pairwise_distances\n",
    "from sklearn.cluster import KMeans\n",
    "from sklearn import preprocessing"
   ]
  },
  {
   "cell_type": "code",
   "execution_count": 4,
   "metadata": {},
   "outputs": [],
   "source": [
    "# %%pycodestyle\n",
    "\n",
    "class MyKmeans: \n",
    "    \n",
    "    def __init__(self, k=2, metric='euclidean', max_iter=1000, random_state=None, init='random', eps=1e-3):\n",
    "        \"\"\"\n",
    "        Инициализация метода\n",
    "        :k - количество кластеров\n",
    "        :metric - функция расстояния между объектами\n",
    "        :max_iter - максиальное количество итераций\n",
    "        :random_state - seed для инициализации генератора случайных чисел\n",
    "        \"\"\"\n",
    "\n",
    "        self.k = k\n",
    "        self.random_state = random_state\n",
    "        self.metric = metric\n",
    "        self.max_iter = max_iter\n",
    "        self.init = init\n",
    "        self.eps = eps # точность нахождения центроидов\n",
    "\n",
    "        \n",
    "    def _k_meanspp_init_centrs(self, X):\n",
    "        centroid_idx = np.random.choice(X.shape[0], size=1, replace=False)[0]\n",
    "        self.centroids = X[centroid_idx][np.newaxis, :]\n",
    "        for cur_centr_ind in range(1, self.k):\n",
    "            dists = pairwise_distances(X, self.centroids, metric='euclidean').min(axis=1)\n",
    "            weights = dists / dists.sum()\n",
    "            centroid_idx = np.random.choice(X.shape[0], size=1, replace=False, p=weights)[0]\n",
    "            self.centroids = np.r_[self.centroids, X[centroid_idx, np.newaxis]]\n",
    "\n",
    "        \n",
    "    def fit(self, X, y=None):\n",
    "        \"\"\"\n",
    "        Процедура обучения k-means\n",
    "        \"\"\"\n",
    "        \n",
    "        # Инициализация генератора случайных чисел\n",
    "        np.random.seed(self.random_state)\n",
    "        \n",
    "        # Массив с метками кластеров для каждого объекта из X\n",
    "        self.labels = np.empty(X.shape[0])\n",
    "        \n",
    "        # Массив с центройдами кластеров\n",
    "        self.centroids = np.empty((self.k, X.shape[1]))\n",
    "        \n",
    "        ## Your Code Here\n",
    "        if self.init == 'random':\n",
    "            self.centroids = np.random.rand(self.k, X.shape[1])\n",
    "        elif self.init == 'k-means':\n",
    "            self._k_meanspp_init_centrs(X)\n",
    "            \n",
    "        for cur_num_iter in range(self.max_iter):\n",
    "            \n",
    "            dists = pairwise_distances(X, self.centroids, self.metric)\n",
    "            self.labels = np.argmin(dists, axis=1)\n",
    "            shifts = []\n",
    "            \n",
    "            for cur_centr_ind in range(self.k):\n",
    "                centr_objs = X[self.labels == cur_centr_ind]\n",
    "                if centr_objs.shape[0] > 0:\n",
    "                    new_value = centr_objs.mean(axis=0)\n",
    "                    shifts.append(np.linalg.norm(self.centroids[cur_centr_ind] - \\\n",
    "                                                new_value))\n",
    "                    self.centroids[cur_centr_ind] = new_value\n",
    "            if max(shifts) < self.eps:\n",
    "                break\n",
    "                \n",
    "        return self\n",
    "\n",
    "    def predict(self, X, y=None):\n",
    "        \"\"\"\n",
    "        Процедура предсказания кластера\n",
    "        \n",
    "        Возвращает метку ближайшего кластера для каждого объекта\n",
    "        \"\"\"\n",
    "        dists = pairwise_distances(X, self.centroids, self.metric)\n",
    "        return np.argmin(dists, axis=1)\n",
    "\n",
    "    def _batch_generator(self, X, batch_size=1):\n",
    "        n = X.shape[0]\n",
    "        indices = np.arange(n)\n",
    "        \n",
    "        while True:\n",
    "            np.random.shuffle(indices)\n",
    "            for i in range(0, n, batch_size):\n",
    "                batch_ind = indices[i: min(i + batch_size, n)]\n",
    "                yield X[batch_ind]\n",
    "\n",
    "    \n",
    "class MiniBatchKMeans(MyKmeans):\n",
    "    def __init__(self, k=2, metric='euclidean',\n",
    "                 max_iter=1000, random_state=None,\n",
    "                 init='random', eps=1e-3, batch_size=10):\n",
    "        \n",
    "        super().__init__(k, metric, max_iter, random_state, init, eps)\n",
    "        self.batch_size = batch_size\n",
    "    \n",
    "    def fit(self, X, y=None):\n",
    "        # Инициализация генератора случайных чисел\n",
    "        np.random.seed(self.random_state)\n",
    "        \n",
    "        # Массив с метками кластеров для каждого объекта из X\n",
    "        self.labels = np.empty(X.shape[0])\n",
    "        \n",
    "        # Массив с центройдами кластеров\n",
    "        self.centroids = np.empty((self.k, X.shape[1]))\n",
    "        \n",
    "        ## Your Code Here\n",
    "        if self.init == 'random':\n",
    "            self.centroids = np.random.rand(self.k, X.shape[1])\n",
    "        elif self.init == 'k-means':\n",
    "            self._k_meanspp_init_centrs(X)\n",
    "        \n",
    "        g_batch = self._batch_generator(X, self.batch_size)\n",
    "        \n",
    "        for cur_num_iter in range(self.max_iter):\n",
    "            X_batch = next(g_batch)\n",
    "            \n",
    "            dists = pairwise_distances(X_batch, self.centroids, self.metric)\n",
    "            self.labels = np.argmin(dists, axis=1)\n",
    "            \n",
    "            for cur_centr_ind in range(self.k):\n",
    "                centr_objs = X_batch[self.labels == cur_centr_ind]\n",
    "                if centr_objs.shape[0] > 0:\n",
    "                    new_value = centr_objs.mean(axis=0)\n",
    "                    self.centroids[cur_centr_ind] = new_value\n",
    "\n",
    "                \n",
    "        return self"
   ]
  },
  {
   "cell_type": "markdown",
   "metadata": {},
   "source": [
    "### Проверка корректности метода\n",
    "\n",
    "Перед тем как применять алгоритм на реальных данных, нужно испытать его на простых \"игрушечных\" данных.\n",
    "\n",
    "Если алгоритм реализован правильно, то метод должен идеально разбивать на 3 кластера данные ниже. Проверьте это.\n",
    "\n",
    "ВНИМАНИЕ! Проверка должна быть осуществлена на всех реализациях, иначе реализация не будет зачтена!"
   ]
  },
  {
   "cell_type": "code",
   "execution_count": 5,
   "metadata": {},
   "outputs": [],
   "source": [
    "from sklearn.datasets import make_blobs"
   ]
  },
  {
   "cell_type": "code",
   "execution_count": 6,
   "metadata": {},
   "outputs": [],
   "source": [
    "X, y = make_blobs(n_samples=100, n_features=2, centers=3, cluster_std=1, \n",
    "           center_box=(-10.0, 10.0), shuffle=False, random_state=1234)"
   ]
  },
  {
   "cell_type": "code",
   "execution_count": 7,
   "metadata": {},
   "outputs": [
    {
     "data": {
      "text/plain": [
       "<matplotlib.collections.PathCollection at 0x7f7238cad6a0>"
      ]
     },
     "execution_count": 7,
     "metadata": {},
     "output_type": "execute_result"
    },
    {
     "data": {
      "image/png": "[encoded data removed]",
      "text/plain": [
       "<Figure size 432x288 with 1 Axes>"
      ]
     },
     "metadata": {
      "needs_background": "light"
     },
     "output_type": "display_data"
    }
   ],
   "source": [
    "plt.scatter(X[:,0], X[:, 1], c=y)"
   ]
  },
  {
   "cell_type": "markdown",
   "metadata": {},
   "source": [
    "Проверьте Вашу имплементацию на простых данных (без этого пункта ДЗ не считается выполненным).   \n",
    "КОММЕНТАРИИ НЕ СТИРАТЬ!"
   ]
  },
  {
   "cell_type": "code",
   "execution_count": 10,
   "metadata": {},
   "outputs": [
    {
     "data": {
      "text/plain": [
       "<matplotlib.legend.Legend at 0x7f7238ae7240>"
      ]
     },
     "execution_count": 10,
     "metadata": {},
     "output_type": "execute_result"
    },
    {
     "data": {
      "image/png": "[encoded data removed]",
      "text/plain": [
       "<Figure size 432x288 with 1 Axes>"
      ]
     },
     "metadata": {
      "needs_background": "light"
     },
     "output_type": "display_data"
    }
   ],
   "source": [
    "## Работоспособность MyKmeans\n",
    "\n",
    "kmm = MyKmeans(k=3)\n",
    "kmm.fit(X)\n",
    "\n",
    "pred_labels = kmm.predict(X)\n",
    "\n",
    "plt.scatter(X[:,0], X[:, 1], c=pred_labels)\n",
    "plt.scatter(kmm.centroids[:, 0], kmm.centroids[:, 1], c='red', label='centroids')\n",
    "plt.legend()"
   ]
  },
  {
   "cell_type": "code",
   "execution_count": 11,
   "metadata": {},
   "outputs": [
    {
     "data": {
      "text/plain": [
       "<matplotlib.legend.Legend at 0x7f7238ad8208>"
      ]
     },
     "execution_count": 11,
     "metadata": {},
     "output_type": "execute_result"
    },
    {
     "data": {
      "image/png": "[encoded data removed]",
      "text/plain": [
       "<Figure size 432x288 with 1 Axes>"
      ]
     },
     "metadata": {
      "needs_background": "light"
     },
     "output_type": "display_data"
    }
   ],
   "source": [
    "## Работоспособность MyKmeans++\n",
    "\n",
    "kmpp = MyKmeans(k=3, init='k-means')\n",
    "kmpp.fit(X)\n",
    "\n",
    "pred_labels = kmpp.predict(X)\n",
    "\n",
    "plt.scatter(X[:,0], X[:, 1], c=pred_labels)\n",
    "plt.scatter(kmpp.centroids[:, 0], kmpp.centroids[:, 1], c='red', label='centroids')\n",
    "plt.legend()"
   ]
  },
  {
   "cell_type": "code",
   "execution_count": 12,
   "metadata": {},
   "outputs": [
    {
     "data": {
      "text/plain": [
       "<matplotlib.legend.Legend at 0x7f7238a4b208>"
      ]
     },
     "execution_count": 12,
     "metadata": {},
     "output_type": "execute_result"
    },
    {
     "data": {
      "image/png": "[encoded data removed]",
      "text/plain": [
       "<Figure size 432x288 with 1 Axes>"
      ]
     },
     "metadata": {
      "needs_background": "light"
     },
     "output_type": "display_data"
    }
   ],
   "source": [
    "## Работоспособность MyKmeans с MiniBatchMyKmeans\n",
    "kmmb = MiniBatchKMeans(k = 3, batch_size=10)\n",
    "kmmb.fit(X)\n",
    "\n",
    "pred_labels = kmmb.predict(X)\n",
    "\n",
    "plt.scatter(X[:,0], X[:, 1], c=pred_labels)\n",
    "plt.scatter(kmmb.centroids[:, 0], kmmb.centroids[:, 1], c='red', label='centroids')\n",
    "plt.legend()"
   ]
  },
  {
   "cell_type": "code",
   "execution_count": 15,
   "metadata": {},
   "outputs": [
    {
     "data": {
      "text/plain": [
       "<matplotlib.legend.Legend at 0x7f7238919fd0>"
      ]
     },
     "execution_count": 15,
     "metadata": {},
     "output_type": "execute_result"
    },
    {
     "data": {
      "image/png": "[encoded data removed]",
      "text/plain": [
       "<Figure size 432x288 with 1 Axes>"
      ]
     },
     "metadata": {
      "needs_background": "light"
     },
     "output_type": "display_data"
    }
   ],
   "source": [
    "## Работоспособность MyKmeans++ с MiniBatchMyKmeans\n",
    "km_mb_pp = MiniBatchKMeans(k = 3, batch_size=15, init='k-means')\n",
    "km_mb_pp.fit(X)\n",
    "\n",
    "pred_labels = km_mb_pp.predict(X)\n",
    "\n",
    "plt.scatter(X[:,0], X[:, 1], c=pred_labels)\n",
    "plt.scatter(km_mb_pp.centroids[:, 0], km_mb_pp.centroids[:, 1], c='red', label='centroids')\n",
    "plt.legend()"
   ]
  },
  {
   "cell_type": "code",
   "execution_count": 21,
   "metadata": {},
   "outputs": [
    {
     "name": "stdout",
     "output_type": "stream",
     "text": [
      "CPU times: user 5.8 s, sys: 4.28 ms, total: 5.8 s\n",
      "Wall time: 5.92 s\n"
     ]
    }
   ],
   "source": [
    "%%time\n",
    "## Время выполнения алгоритма Kmeans из sklearn\n",
    "km1 = KMeans(n_clusters=3, max_iter=1000, tol=0)\n",
    "km1.fit_predict(X)"
   ]
  },
  {
   "cell_type": "code",
   "execution_count": 22,
   "metadata": {},
   "outputs": [
    {
     "name": "stdout",
     "output_type": "stream",
     "text": [
      "CPU times: user 762 ms, sys: 6.41 ms, total: 768 ms\n",
      "Wall time: 790 ms\n"
     ]
    }
   ],
   "source": [
    "%%time\n",
    "## Время выполнения алгоритма MyKmeans\n",
    "km2 = MyKmeans(k=3, max_iter=1000, eps=0)\n",
    "km2.fit(X)\n",
    "km2.predict(X)"
   ]
  },
  {
   "cell_type": "code",
   "execution_count": 23,
   "metadata": {},
   "outputs": [
    {
     "name": "stdout",
     "output_type": "stream",
     "text": [
      "CPU times: user 749 ms, sys: 6.74 ms, total: 756 ms\n",
      "Wall time: 775 ms\n"
     ]
    }
   ],
   "source": [
    "%%time\n",
    "## Время выполнения алгоритма MyKmeans++\n",
    "km3 = MyKmeans(k=3, max_iter=1000, eps=0, init='k-means')\n",
    "km3.fit(X)\n",
    "km3.predict(X)"
   ]
  },
  {
   "cell_type": "code",
   "execution_count": 24,
   "metadata": {},
   "outputs": [
    {
     "name": "stdout",
     "output_type": "stream",
     "text": [
      "CPU times: user 610 ms, sys: 3.85 ms, total: 614 ms\n",
      "Wall time: 621 ms\n"
     ]
    }
   ],
   "source": [
    "%%time\n",
    "## Время выполнения алгоритма MyKmeans с MiniBatchMyKmeans\n",
    "km4 = MiniBatchKMeans(k=3, max_iter=1000, batch_size=10)\n",
    "km4.fit(X)\n",
    "km4.predict(X)"
   ]
  },
  {
   "cell_type": "code",
   "execution_count": 25,
   "metadata": {},
   "outputs": [
    {
     "name": "stdout",
     "output_type": "stream",
     "text": [
      "CPU times: user 617 ms, sys: 1.85 ms, total: 619 ms\n",
      "Wall time: 635 ms\n"
     ]
    }
   ],
   "source": [
    "%%time\n",
    "## Время выполнения алгоритма  MyKmeans++ с MiniBatchMyKmeans\n",
    "km5 = MiniBatchKMeans(k=3, max_iter=1000, init='k-means', batch_size=10)\n",
    "km5.fit(X)\n",
    "km5.predict(X)"
   ]
  },
  {
   "cell_type": "code",
   "execution_count": 27,
   "metadata": {},
   "outputs": [],
   "source": [
    "import time"
   ]
  },
  {
   "cell_type": "code",
   "execution_count": 30,
   "metadata": {},
   "outputs": [
    {
     "data": {
      "image/png": "[encoded data removed]",
      "text/plain": [
       "<Figure size 432x288 with 1 Axes>"
      ]
     },
     "metadata": {
      "needs_background": "light"
     },
     "output_type": "display_data"
    }
   ],
   "source": [
    "kms = [KMeans(n_clusters=3, max_iter=1000, tol=0),\n",
    "      MyKmeans(k=3, max_iter=1000, eps=0),\n",
    "      MyKmeans(k=3, max_iter=1000, eps=0, init='k-means'),\n",
    "      MiniBatchKMeans(k=3, max_iter=1000, batch_size=10),\n",
    "      MiniBatchKMeans(k=3, max_iter=1000, init='k-means', batch_size=10)]\n",
    "kms_label = ['KMeans',\n",
    "            'MyKmeans',\n",
    "            'MyKmeans_pp',\n",
    "            'MiniBatchKMeans',\n",
    "            'MiniBatchKMeans_pp']\n",
    "\n",
    "x_nums_sample = list(range(100, 1000, 100))\n",
    "y_time = [0] * len(x_num_smaple)\n",
    "X_datas = []\n",
    "\n",
    "for num_sample in x_nums_sample:\n",
    "    X, _ = make_blobs(n_samples=num_sample, n_features=2, centers=3, cluster_std=1, \n",
    "           center_box=(-10.0, 10.0), shuffle=False, random_state=1234)\n",
    "    X_datas.append(X)\n",
    "\n",
    "for i in range(len(kms)):\n",
    "    for j in range(len(x_nums_sample)):\n",
    "        start_time = time.time()\n",
    "        kms[i].fit(X_datas[j])\n",
    "        kms[i].predict(X_datas[j])\n",
    "        y_time[j] = time.time() - start_time\n",
    "    plt.plot(x_nums_sample, y_time, label=kms_label[i])\n",
    "    \n",
    "plt.legend()\n",
    "plt.show()"
   ]
  },
  {
   "cell_type": "markdown",
   "metadata": {},
   "source": [
    "# Применение K-means на реальных данных"
   ]
  },
  {
   "cell_type": "markdown",
   "metadata": {},
   "source": [
    "Загрузите [данные](https://github.com/brenden17/sklearnlab/blob/master/facebook/snsdata.csv) в которых содержится описание интересов профилей учеников старшей школы США.  (без этого пункта задание не считается выполненным).   \n",
    "ВНИМАНИЕ! Проверка должна быть осуществлена на всех реализациях, иначе реализация не будет зачтена!"
   ]
  },
  {
   "cell_type": "code",
   "execution_count": 31,
   "metadata": {},
   "outputs": [
    {
     "data": {
      "text/html": [
       "<div>\n",
       "<style scoped>\n",
       "    .dataframe tbody tr th:only-of-type {\n",
       "        vertical-align: middle;\n",
       "    }\n",
       "\n",
       "    .dataframe tbody tr th {\n",
       "        vertical-align: top;\n",
       "    }\n",
       "\n",
       "    .dataframe thead th {\n",
       "        text-align: right;\n",
       "    }\n",
       "</style>\n",
       "<table border=\"1\" class=\"dataframe\">\n",
       "  <thead>\n",
       "    <tr style=\"text-align: right;\">\n",
       "      <th></th>\n",
       "      <th>gradyear</th>\n",
       "      <th>gender</th>\n",
       "      <th>age</th>\n",
       "      <th>friends</th>\n",
       "      <th>basketball</th>\n",
       "      <th>football</th>\n",
       "      <th>soccer</th>\n",
       "      <th>softball</th>\n",
       "      <th>volleyball</th>\n",
       "      <th>swimming</th>\n",
       "      <th>...</th>\n",
       "      <th>blonde</th>\n",
       "      <th>mall</th>\n",
       "      <th>shopping</th>\n",
       "      <th>clothes</th>\n",
       "      <th>hollister</th>\n",
       "      <th>abercrombie</th>\n",
       "      <th>die</th>\n",
       "      <th>death</th>\n",
       "      <th>drunk</th>\n",
       "      <th>drugs</th>\n",
       "    </tr>\n",
       "  </thead>\n",
       "  <tbody>\n",
       "    <tr>\n",
       "      <th>0</th>\n",
       "      <td>2006</td>\n",
       "      <td>M</td>\n",
       "      <td>18.982</td>\n",
       "      <td>7</td>\n",
       "      <td>0</td>\n",
       "      <td>0</td>\n",
       "      <td>0</td>\n",
       "      <td>0</td>\n",
       "      <td>0</td>\n",
       "      <td>0</td>\n",
       "      <td>...</td>\n",
       "      <td>0</td>\n",
       "      <td>0</td>\n",
       "      <td>0</td>\n",
       "      <td>0</td>\n",
       "      <td>0</td>\n",
       "      <td>0</td>\n",
       "      <td>0</td>\n",
       "      <td>0</td>\n",
       "      <td>0</td>\n",
       "      <td>0</td>\n",
       "    </tr>\n",
       "    <tr>\n",
       "      <th>1</th>\n",
       "      <td>2006</td>\n",
       "      <td>F</td>\n",
       "      <td>18.801</td>\n",
       "      <td>0</td>\n",
       "      <td>0</td>\n",
       "      <td>1</td>\n",
       "      <td>0</td>\n",
       "      <td>0</td>\n",
       "      <td>0</td>\n",
       "      <td>0</td>\n",
       "      <td>...</td>\n",
       "      <td>0</td>\n",
       "      <td>1</td>\n",
       "      <td>0</td>\n",
       "      <td>0</td>\n",
       "      <td>0</td>\n",
       "      <td>0</td>\n",
       "      <td>0</td>\n",
       "      <td>0</td>\n",
       "      <td>0</td>\n",
       "      <td>0</td>\n",
       "    </tr>\n",
       "    <tr>\n",
       "      <th>2</th>\n",
       "      <td>2006</td>\n",
       "      <td>M</td>\n",
       "      <td>18.335</td>\n",
       "      <td>69</td>\n",
       "      <td>0</td>\n",
       "      <td>1</td>\n",
       "      <td>0</td>\n",
       "      <td>0</td>\n",
       "      <td>0</td>\n",
       "      <td>0</td>\n",
       "      <td>...</td>\n",
       "      <td>0</td>\n",
       "      <td>0</td>\n",
       "      <td>0</td>\n",
       "      <td>0</td>\n",
       "      <td>0</td>\n",
       "      <td>0</td>\n",
       "      <td>0</td>\n",
       "      <td>1</td>\n",
       "      <td>0</td>\n",
       "      <td>0</td>\n",
       "    </tr>\n",
       "    <tr>\n",
       "      <th>3</th>\n",
       "      <td>2006</td>\n",
       "      <td>F</td>\n",
       "      <td>18.875</td>\n",
       "      <td>0</td>\n",
       "      <td>0</td>\n",
       "      <td>0</td>\n",
       "      <td>0</td>\n",
       "      <td>0</td>\n",
       "      <td>0</td>\n",
       "      <td>0</td>\n",
       "      <td>...</td>\n",
       "      <td>0</td>\n",
       "      <td>0</td>\n",
       "      <td>0</td>\n",
       "      <td>0</td>\n",
       "      <td>0</td>\n",
       "      <td>0</td>\n",
       "      <td>0</td>\n",
       "      <td>0</td>\n",
       "      <td>0</td>\n",
       "      <td>0</td>\n",
       "    </tr>\n",
       "    <tr>\n",
       "      <th>4</th>\n",
       "      <td>2006</td>\n",
       "      <td>NaN</td>\n",
       "      <td>18.995</td>\n",
       "      <td>10</td>\n",
       "      <td>0</td>\n",
       "      <td>0</td>\n",
       "      <td>0</td>\n",
       "      <td>0</td>\n",
       "      <td>0</td>\n",
       "      <td>0</td>\n",
       "      <td>...</td>\n",
       "      <td>0</td>\n",
       "      <td>0</td>\n",
       "      <td>2</td>\n",
       "      <td>0</td>\n",
       "      <td>0</td>\n",
       "      <td>0</td>\n",
       "      <td>0</td>\n",
       "      <td>0</td>\n",
       "      <td>1</td>\n",
       "      <td>1</td>\n",
       "    </tr>\n",
       "  </tbody>\n",
       "</table>\n",
       "<p>5 rows × 40 columns</p>\n",
       "</div>"
      ],
      "text/plain": [
       "   gradyear gender     age  friends  basketball  football  soccer  softball  \\\n",
       "0      2006      M  18.982        7           0         0       0         0   \n",
       "1      2006      F  18.801        0           0         1       0         0   \n",
       "2      2006      M  18.335       69           0         1       0         0   \n",
       "3      2006      F  18.875        0           0         0       0         0   \n",
       "4      2006    NaN  18.995       10           0         0       0         0   \n",
       "\n",
       "   volleyball  swimming  ...    blonde  mall  shopping  clothes  hollister  \\\n",
       "0           0         0  ...         0     0         0        0          0   \n",
       "1           0         0  ...         0     1         0        0          0   \n",
       "2           0         0  ...         0     0         0        0          0   \n",
       "3           0         0  ...         0     0         0        0          0   \n",
       "4           0         0  ...         0     0         2        0          0   \n",
       "\n",
       "   abercrombie  die  death  drunk  drugs  \n",
       "0            0    0      0      0      0  \n",
       "1            0    0      0      0      0  \n",
       "2            0    0      1      0      0  \n",
       "3            0    0      0      0      0  \n",
       "4            0    0      0      1      1  \n",
       "\n",
       "[5 rows x 40 columns]"
      ]
     },
     "execution_count": 31,
     "metadata": {},
     "output_type": "execute_result"
    }
   ],
   "source": [
    "df_sns = pd.read_csv('snsdata.csv', sep=',')\n",
    "df_sns.head()"
   ]
  },
  {
   "cell_type": "markdown",
   "metadata": {},
   "source": [
    "Данные устроены так: \n",
    "* Год выпуска\n",
    "* Пол\n",
    "* Возраст\n",
    "* Количество друзей\n",
    "* 36 ключевых слов, которые встречаются в профилe facebook (интересы, сообщества, встречи)"
   ]
  },
  {
   "cell_type": "markdown",
   "metadata": {},
   "source": [
    "* Удалите все признаки кроме 36 ключевых слов.\n",
    "* Нормализуйте данные - из каждого столбца вычтите его среднее значение и поделите на стандартное отклонение.\n",
    "* Используйте метод k-means чтобы выделить 9 кластеров\n",
    "* Попробуйте проинтерпретировать каждый кластер проанализировав полученные центройды (Некоторые кластеры могут быть очень большие и очень маленькие - плохо интерпретируются)   \n",
    "КОММЕНТАРИИ НЕ СТИРАТЬ!"
   ]
  },
  {
   "cell_type": "code",
   "execution_count": 32,
   "metadata": {},
   "outputs": [],
   "source": [
    "from sklearn import preprocessing"
   ]
  },
  {
   "cell_type": "code",
   "execution_count": 33,
   "metadata": {},
   "outputs": [
    {
     "data": {
      "text/plain": [
       "array([[-0.33221726, -0.35769737, -0.2428741 , ..., -0.26153016,\n",
       "        -0.22040264, -0.1749076 ],\n",
       "       [-0.33221726,  1.06004883, -0.2428741 , ..., -0.26153016,\n",
       "        -0.22040264, -0.1749076 ],\n",
       "       [-0.33221726,  1.06004883, -0.2428741 , ...,  2.02790809,\n",
       "        -0.22040264, -0.1749076 ],\n",
       "       ...,\n",
       "       [-0.33221726,  1.06004883, -0.2428741 , ..., -0.26153016,\n",
       "        -0.22040264, -0.1749076 ],\n",
       "       [-0.33221726, -0.35769737, -0.2428741 , ..., -0.26153016,\n",
       "        -0.22040264, -0.1749076 ],\n",
       "       [ 2.15319868, -0.35769737, -0.2428741 , ..., -0.26153016,\n",
       "        -0.22040264, -0.1749076 ]])"
      ]
     },
     "execution_count": 33,
     "metadata": {},
     "output_type": "execute_result"
    }
   ],
   "source": [
    "df_sns = df_sns.drop(columns=['gradyear', 'gender', 'age', 'friends'])\n",
    "scaler = preprocessing.StandardScaler()\n",
    "scaler.fit_transform(df_sns)"
   ]
  },
  {
   "cell_type": "code",
   "execution_count": 78,
   "metadata": {},
   "outputs": [],
   "source": [
    "def centroids_out(km):\n",
    "    clust_labels_for_x = km.predict(df_sns.values)\n",
    "    clusts, size_clust = np.unique(clust_labels_for_x,\n",
    "                                  return_counts=True)\n",
    "    \n",
    "    hobbies = list(df_sns.columns.values)\n",
    "    \n",
    "    for clust in clusts:\n",
    "        indx = np.argpartition(-km.centroids[clust], 5)[:5]\n",
    "        hobbies_list = [hobbies[i] for i in indx]\n",
    "        print('Clust_num: {},\\tsize: {},\\ttop hobbies: {}'.format(clust,\n",
    "                                                          size_clust[clust],\n",
    "                                                          hobbies_list))"
   ]
  },
  {
   "cell_type": "code",
   "execution_count": 79,
   "metadata": {},
   "outputs": [
    {
     "name": "stdout",
     "output_type": "stream",
     "text": [
      "Clust_num: 0,\tsize: 377,\ttop hobbies: ['hair', 'sex', 'music', 'rock', 'kissed']\n",
      "Clust_num: 1,\tsize: 542,\ttop hobbies: ['jesus', 'god', 'church', 'music', 'die']\n",
      "Clust_num: 2,\tsize: 527,\ttop hobbies: ['basketball', 'softball', 'shopping', 'music', 'volleyball']\n",
      "Clust_num: 3,\tsize: 1082,\ttop hobbies: ['music', 'hair', 'dance', 'shopping', 'cute']\n",
      "Clust_num: 4,\tsize: 19819,\ttop hobbies: ['music', 'god', 'shopping', 'football', 'cute']\n",
      "Clust_num: 5,\tsize: 2801,\ttop hobbies: ['mall', 'shopping', 'cute', 'hair', 'music']\n",
      "Clust_num: 6,\tsize: 796,\ttop hobbies: ['marching', 'band', 'music', 'god', 'dance']\n",
      "Clust_num: 7,\tsize: 706,\ttop hobbies: ['music', 'basketball', 'soccer', 'shopping', 'hair']\n",
      "Clust_num: 8,\tsize: 3350,\ttop hobbies: ['rock', 'god', 'shopping', 'music', 'dance']\n"
     ]
    }
   ],
   "source": [
    "## MyKMeans\n",
    "km1 = MyKmeans(k=9)\n",
    "km1.fit(df_sns.values)\n",
    "centroids_out(km1)"
   ]
  },
  {
   "cell_type": "code",
   "execution_count": 81,
   "metadata": {},
   "outputs": [
    {
     "name": "stdout",
     "output_type": "stream",
     "text": [
      "Clust_num: 0,\tsize: 12650,\ttop hobbies: ['hair', 'jesus', 'dress', 'mall', 'bible']\n",
      "Clust_num: 1,\tsize: 1071,\ttop hobbies: ['bible', 'church', 'hair', 'football', 'blonde']\n",
      "Clust_num: 2,\tsize: 2589,\ttop hobbies: ['hair', 'jesus', 'dress', 'shopping', 'mall']\n",
      "Clust_num: 3,\tsize: 1495,\ttop hobbies: ['hair', 'music', 'sex', 'kissed', 'rock']\n",
      "Clust_num: 4,\tsize: 2648,\ttop hobbies: ['dress', 'jesus', 'soccer', 'softball', 'basketball']\n",
      "Clust_num: 5,\tsize: 4263,\ttop hobbies: ['hair', 'church', 'band', 'music', 'blonde']\n",
      "Clust_num: 6,\tsize: 2484,\ttop hobbies: ['hair', 'jesus', 'dress', 'god', 'mall']\n",
      "Clust_num: 7,\tsize: 415,\ttop hobbies: ['die', 'jesus', 'hair', 'bible', 'blonde']\n",
      "Clust_num: 8,\tsize: 2385,\ttop hobbies: ['hair', 'dance', 'church', 'god', 'blonde']\n"
     ]
    }
   ],
   "source": [
    "## MyKMeans++\n",
    "km2 = MyKmeans(k=9, init='k-means')\n",
    "km2.fit(df_sns.values)\n",
    "centroids_out(km2)"
   ]
  },
  {
   "cell_type": "code",
   "execution_count": 89,
   "metadata": {},
   "outputs": [
    {
     "name": "stdout",
     "output_type": "stream",
     "text": [
      "Clust_num: 0,\tsize: 25040,\ttop hobbies: ['music', 'god', 'shopping', 'cute', 'dance']\n",
      "Clust_num: 1,\tsize: 1,\ttop hobbies: ['blonde', 'sex', 'hair', 'god', 'death']\n",
      "Clust_num: 2,\tsize: 222,\ttop hobbies: ['god', 'jesus', 'basketball', 'die', 'music']\n",
      "Clust_num: 3,\tsize: 966,\ttop hobbies: ['marching', 'band', 'music', 'football', 'shopping']\n",
      "Clust_num: 4,\tsize: 1161,\ttop hobbies: ['dance', 'cute', 'music', 'shopping', 'church']\n",
      "Clust_num: 5,\tsize: 1,\ttop hobbies: ['rock', 'cute', 'music', 'tennis', 'hair']\n",
      "Clust_num: 6,\tsize: 753,\ttop hobbies: ['football', 'music', 'soccer', 'cute', 'sports']\n",
      "Clust_num: 7,\tsize: 1,\ttop hobbies: ['sex', 'music', 'church', 'rock', 'death']\n",
      "Clust_num: 8,\tsize: 1855,\ttop hobbies: ['music', 'sex', 'hair', 'god', 'cute']\n"
     ]
    }
   ],
   "source": [
    "## MyKMeans с MiniBatchMyKMeans\n",
    "km3 = MiniBatchKMeans(k=9, batch_size=1000)\n",
    "km3.fit(df_sns.values)\n",
    "centroids_out(km3)"
   ]
  },
  {
   "cell_type": "code",
   "execution_count": 92,
   "metadata": {},
   "outputs": [
    {
     "name": "stdout",
     "output_type": "stream",
     "text": [
      "Clust_num: 0,\tsize: 13576,\ttop hobbies: ['hair', 'jesus', 'dress', 'mall', 'bible']\n",
      "Clust_num: 1,\tsize: 8082,\ttop hobbies: ['bible', 'church', 'hair', 'music', 'blonde']\n",
      "Clust_num: 2,\tsize: 1,\ttop hobbies: ['blonde', 'sex', 'hair', 'god', 'death']\n",
      "Clust_num: 3,\tsize: 2077,\ttop hobbies: ['hair', 'jesus', 'dress', 'god', 'mall']\n",
      "Clust_num: 4,\tsize: 1094,\ttop hobbies: ['bible', 'dance', 'hair', 'music', 'blonde']\n",
      "Clust_num: 5,\tsize: 2311,\ttop hobbies: ['hair', 'sex', 'dress', 'music', 'blonde']\n",
      "Clust_num: 6,\tsize: 816,\ttop hobbies: ['hair', 'church', 'band', 'music', 'blonde']\n",
      "Clust_num: 7,\tsize: 1335,\ttop hobbies: ['bible', 'church', 'hair', 'music', 'blonde']\n",
      "Clust_num: 8,\tsize: 708,\ttop hobbies: ['hair', 'jesus', 'soccer', 'dress', 'mall']\n"
     ]
    }
   ],
   "source": [
    "## MyKMeans++ с MiniBatchMyKMeans\n",
    "km4 = MiniBatchKMeans(k=9, batch_size=1000, init='k-means')\n",
    "km4.fit(df_sns.values)\n",
    "centroids_out(km4)"
   ]
  },
  {
   "cell_type": "markdown",
   "metadata": {},
   "source": [
    "## Вывод\n",
    "\n",
    "#### Применение K-means на реальных данных\n",
    "\n",
    "Думаю, наиболее инерпретируемым оказались результаты простого KMeans. Можно выделить следующие ярко выраженные группы студентов:\n",
    "   - обычные юноши/девушки: 'hair', 'sex', 'music', 'rock', 'kissed';\n",
    "   - увлекающиеся религией: 'jesus', 'god', 'church', 'music', 'die';\n",
    "   - увлекающиеся спортом: 'basketball', 'softball', 'shopping', 'music', 'volleyball';\n",
    "   - девушки увлекающиеся модой/красотой: 'mall', 'shopping', 'cute', 'hair', 'music'.\n",
    "   \n",
    "У большинства же студентов эти хобби смешанны и нельзя выделить какие-то группы конкретно.\n",
    "   \n",
    "#### В целом\n",
    "\n",
    "Можно заметить, что быстрее всего работают MiniBatchKMeans алгоритмы. Но при этом на MiniBatchKMeans нельзя использовать величину изменения положения центроидов, как признак выхода из цикла, только можно ограничить максимальное число итераций.\n",
    "\n",
    "Если использовать величину изменения положения центроидов, как признак выхода из цикла, то k-means++ алгоритм может дать увеличение в скорости, так как он инициализирует центроиды значениями в точках близких к минимуму сразу.\n",
    "\n",
    "Таким образом, нельзя сказать какой из алгоритмов лучше. Это зависит от задачи.\n",
    "Если в задаче большой объем данных, то следует использовать MiniBatch. Если нет, то лучше использовать k-means++."
   ]
  }
 ],
 "metadata": {
  "anaconda-cloud": {},
  "kernelspec": {
   "display_name": "Python 3",
   "language": "python",
   "name": "python3"
  },
  "language_info": {
   "codemirror_mode": {
    "name": "ipython",
    "version": 3
   },
   "file_extension": ".py",
   "mimetype": "text/x-python",
   "name": "python",
   "nbconvert_exporter": "python",
   "pygments_lexer": "ipython3",
   "version": "3.7.0"
  },
  "nav_menu": {},
  "toc": {
   "navigate_menu": true,
   "number_sections": false,
   "sideBar": true,
   "threshold": 6,
   "toc_cell": false,
   "toc_section_display": "block",
   "toc_window_display": true
  }
 },
 "nbformat": 4,
 "nbformat_minor": 2
}
