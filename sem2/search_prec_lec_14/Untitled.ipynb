{
 "cells": [
  {
   "cell_type": "code",
   "execution_count": 1,
   "metadata": {},
   "outputs": [],
   "source": [
    "from collections import Counter\n",
    "import math"
   ]
  },
  {
   "cell_type": "code",
   "execution_count": 2,
   "metadata": {},
   "outputs": [],
   "source": [
    "web_q = Counter()\n",
    "im_q = Counter()\n",
    "\n",
    "with open('./web_queries.txt', 'r') as web_fin, open('./image_queries.txt', 'r') as im_fin:\n",
    "    for i, line in enumerate(web_fin):\n",
    "        web_q.update(line.replace('\\n', '').split())\n",
    "        \n",
    "    for line in im_fin:\n",
    "        im_q.update(line.replace('\\n', '').split())\n"
   ]
  },
  {
   "cell_type": "code",
   "execution_count": 3,
   "metadata": {},
   "outputs": [
    {
     "name": "stdout",
     "output_type": "stream",
     "text": [
      "87801 22102\n"
     ]
    }
   ],
   "source": [
    "print(len(web_q), len(im_q))"
   ]
  },
  {
   "cell_type": "code",
   "execution_count": 28,
   "metadata": {},
   "outputs": [
    {
     "name": "stdout",
     "output_type": "stream",
     "text": [
      "CPU times: user 34.2 ms, sys: 2.64 ms, total: 36.8 ms\n",
      "Wall time: 37 ms\n"
     ]
    }
   ],
   "source": [
    "%%time\n",
    "\n",
    "im_q_filtered = {x.strip() : im_q[x] for x in im_q if x.isalpha() and x != 'id'}"
   ]
  },
  {
   "cell_type": "code",
   "execution_count": 29,
   "metadata": {},
   "outputs": [
    {
     "name": "stdout",
     "output_type": "stream",
     "text": [
      "CPU times: user 113 ms, sys: 3.05 ms, total: 116 ms\n",
      "Wall time: 117 ms\n"
     ]
    }
   ],
   "source": [
    "%%time\n",
    "\n",
    "web_q_filtered = {x.strip() : web_q[x] for x in web_q if x.isalpha() and x != 'id'}"
   ]
  },
  {
   "cell_type": "code",
   "execution_count": 30,
   "metadata": {},
   "outputs": [
    {
     "name": "stdout",
     "output_type": "stream",
     "text": [
      "20487 77547\n",
      "381276 60424\n"
     ]
    }
   ],
   "source": [
    "print(len(im_q_filtered), len(web_q_filtered))\n",
    "web_sum = sum(web_q_filtered.values())\n",
    "im_sum = sum(im_q_filtered.values())\n",
    "print(web_sum, im_sum)"
   ]
  },
  {
   "cell_type": "code",
   "execution_count": 31,
   "metadata": {},
   "outputs": [],
   "source": [
    "input_q = 'рабочий стол 604ч604'"
   ]
  },
  {
   "cell_type": "code",
   "execution_count": 93,
   "metadata": {},
   "outputs": [],
   "source": [
    "def p_is_image(sz):\n",
    "    p = 0\n",
    "    bias = 0.2\n",
    "    for word in sz.split():\n",
    "        if word in im_q_filtered and word in web_q_filtered:\n",
    "            p += math.log(im_q_filtered[word] / web_q_filtered[word])\n",
    "    if len(sz.split()):\n",
    "        return bias + p / len(sz.split())\n",
    "    return p"
   ]
  },
  {
   "cell_type": "code",
   "execution_count": 94,
   "metadata": {},
   "outputs": [
    {
     "name": "stdout",
     "output_type": "stream",
     "text": [
      "0.08635780434313561\n"
     ]
    }
   ],
   "source": [
    "print(p_is_image(input_q))"
   ]
  },
  {
   "cell_type": "code",
   "execution_count": 95,
   "metadata": {},
   "outputs": [],
   "source": [
    "res_w = []\n",
    "res_im = []\n",
    "\n",
    "with open('./web_queries.txt', 'r') as web_fin, open('./image_queries.txt', 'r') as im_fin:\n",
    "    for i, line in enumerate(web_fin):\n",
    "        line = line.replace('\\n', '')\n",
    "        res_w.append((line, p_is_image(line)))\n",
    "        \n",
    "    for line in im_fin:\n",
    "        line = line.replace('\\n', '')\n",
    "        res_im.append((line, p_is_image(line)))"
   ]
  },
  {
   "cell_type": "code",
   "execution_count": 96,
   "metadata": {},
   "outputs": [],
   "source": [
    "res_w_sort = sorted(res_w, key=lambda x: x[1])"
   ]
  },
  {
   "cell_type": "code",
   "execution_count": 97,
   "metadata": {},
   "outputs": [],
   "source": [
    "res_im_sort = sorted(res_im, key=lambda x: x[1])"
   ]
  },
  {
   "cell_type": "code",
   "execution_count": 98,
   "metadata": {},
   "outputs": [
    {
     "data": {
      "text/plain": [
       "[('грамота юному натуралисту', 0.3917880483011873),\n",
       " ('перламутровый лоскут', 0.4027325540540822),\n",
       " ('дворцовая архитектура ', 0.45541281188299537),\n",
       " ('щавель раскраска', 0.5128529498822063),\n",
       " ('коляска анмар марсель', 0.526943084337242),\n",
       " ('польт птахів', 0.5465735902799727),\n",
       " ('дорожній рух картинки', 0.5540261817785512),\n",
       " ('siberian', 0.6054651081081643),\n",
       " ('архитектура', 0.7108256237659907)]"
      ]
     },
     "execution_count": 98,
     "metadata": {},
     "output_type": "execute_result"
    }
   ],
   "source": [
    "res_w_sort[-10:-1]"
   ]
  },
  {
   "cell_type": "code",
   "execution_count": 99,
   "metadata": {},
   "outputs": [
    {
     "name": "stdout",
     "output_type": "stream",
     "text": [
      "('AMARAYIN SORER', 0.8931471805599454) ('сима ленд каталог', -6.249088176707172)\n"
     ]
    }
   ],
   "source": [
    "print(res_w_sort[-1], res_w_sort[0])"
   ]
  },
  {
   "cell_type": "code",
   "execution_count": 100,
   "metadata": {},
   "outputs": [
    {
     "name": "stdout",
     "output_type": "stream",
     "text": [
      "('щавель', 0.8931471805599454) ('погода', -5.7914645471079815)\n"
     ]
    }
   ],
   "source": [
    "print(res_im_sort[-1], res_im_sort[0])"
   ]
  },
  {
   "cell_type": "code",
   "execution_count": 171,
   "metadata": {},
   "outputs": [],
   "source": [
    "tp = 0\n",
    "fp = 0\n",
    "fn = 0\n",
    "tn = 0\n",
    "\n",
    "threshold = -0.5\n",
    "\n",
    "with open('./web_queries.txt', 'r') as web_fin, open('./image_queries.txt', 'r') as im_fin:\n",
    "    for i, line in enumerate(web_fin):\n",
    "        line = line.replace('\\n', '')\n",
    "        if p_is_image(line) > threshold:\n",
    "            fp += 1\n",
    "        else:\n",
    "            tn += 1\n",
    "        \n",
    "    for line in im_fin:\n",
    "        line = line.replace('\\n', '')\n",
    "        if p_is_image(line) > threshold:\n",
    "            tp += 1\n",
    "        else:\n",
    "            fn += 1"
   ]
  },
  {
   "cell_type": "code",
   "execution_count": 172,
   "metadata": {},
   "outputs": [
    {
     "name": "stdout",
     "output_type": "stream",
     "text": [
      "10103 33894 7897 66106\n"
     ]
    }
   ],
   "source": [
    "print(tp, fp, fn, tn)"
   ]
  },
  {
   "cell_type": "code",
   "execution_count": 173,
   "metadata": {},
   "outputs": [
    {
     "name": "stdout",
     "output_type": "stream",
     "text": [
      "Accuracy is 0.6458389830508474\n",
      "Precion is 0.22962929290633452\n",
      "Recall is 0.5612777777777778\n",
      "F1 is 0.3259189960804555\n"
     ]
    }
   ],
   "source": [
    "print('Accuracy is {}'.format((tp + tn) / (tp + fp + fn + tn)))\n",
    "pres = tp / (tp + fp)\n",
    "rec = tp / (tp + fn)\n",
    "print('Precion is {}'.format(pres))\n",
    "print('Recall is {}'.format(rec))\n",
    "print('F1 is {}'.format(2 * (pres * rec) / (pres + rec)))"
   ]
  },
  {
   "cell_type": "code",
   "execution_count": null,
   "metadata": {},
   "outputs": [],
   "source": []
  }
 ],
 "metadata": {
  "kernelspec": {
   "display_name": "Python 3",
   "language": "python",
   "name": "python3"
  },
  "language_info": {
   "codemirror_mode": {
    "name": "ipython",
    "version": 3
   },
   "file_extension": ".py",
   "mimetype": "text/x-python",
   "name": "python",
   "nbconvert_exporter": "python",
   "pygments_lexer": "ipython3",
   "version": "3.7.0"
  }
 },
 "nbformat": 4,
 "nbformat_minor": 2
}
